{
  "cells": [
    {
      "cell_type": "markdown",
      "metadata": {
        "id": "view-in-github",
        "colab_type": "text"
      },
      "source": [
        "<a href=\"https://colab.research.google.com/github/ggaoshen/graph_wavenet/blob/main/CS224W_Final_Project.ipynb\" target=\"_parent\"><img src=\"https://colab.research.google.com/assets/colab-badge.svg\" alt=\"Open In Colab\"/></a>"
      ]
    },
    {
      "cell_type": "markdown",
      "metadata": {
        "id": "XuXWJLEm2UWS"
      },
      "source": [
        "# **CS224W - Final Project**"
      ]
    },
    {
      "cell_type": "markdown",
      "metadata": {
        "id": "8gzsP50bF6Gb"
      },
      "source": [
        "Description goes here."
      ]
    },
    {
      "cell_type": "markdown",
      "metadata": {
        "id": "MSaetj53YnT6"
      },
      "source": [
        "# Device\n",
        "You might need to use GPU for this Colab.\n",
        "\n",
        "Please click `Runtime` and then `Change runtime type`. Then set the `hardware accelerator` to **GPU**."
      ]
    },
    {
      "cell_type": "markdown",
      "metadata": {
        "id": "67gOQITlCNQi"
      },
      "source": [
        "# Installation"
      ]
    },
    {
      "cell_type": "code",
      "execution_count": 1,
      "metadata": {
        "id": "J_m9l6OYCQZP",
        "colab": {
          "base_uri": "https://localhost:8080/"
        },
        "outputId": "26efe197-0d6a-43b5-9b73-1744f5afeabd"
      },
      "outputs": [
        {
          "output_type": "stream",
          "name": "stdout",
          "text": [
            "Looking in links: https://pytorch-geometric.com/whl/torch-2.1.0+cu118.html\n",
            "Collecting torch-scatter\n",
            "  Downloading https://data.pyg.org/whl/torch-2.1.0%2Bcu118/torch_scatter-2.1.2%2Bpt21cu118-cp310-cp310-linux_x86_64.whl (10.2 MB)\n",
            "\u001b[2K     \u001b[90m━━━━━━━━━━━━━━━━━━━━━━━━━━━━━━━━━━━━━━━━\u001b[0m \u001b[32m10.2/10.2 MB\u001b[0m \u001b[31m40.5 MB/s\u001b[0m eta \u001b[36m0:00:00\u001b[0m\n",
            "\u001b[?25hInstalling collected packages: torch-scatter\n",
            "Successfully installed torch-scatter-2.1.2+pt21cu118\n",
            "Looking in links: https://pytorch-geometric.com/whl/torch-2.1.0+cu118.html\n",
            "Collecting torch-sparse\n",
            "  Downloading https://data.pyg.org/whl/torch-2.1.0%2Bcu118/torch_sparse-0.6.18%2Bpt21cu118-cp310-cp310-linux_x86_64.whl (4.9 MB)\n",
            "\u001b[2K     \u001b[90m━━━━━━━━━━━━━━━━━━━━━━━━━━━━━━━━━━━━━━━━\u001b[0m \u001b[32m4.9/4.9 MB\u001b[0m \u001b[31m45.4 MB/s\u001b[0m eta \u001b[36m0:00:00\u001b[0m\n",
            "\u001b[?25hRequirement already satisfied: scipy in /usr/local/lib/python3.10/dist-packages (from torch-sparse) (1.11.4)\n",
            "Requirement already satisfied: numpy<1.28.0,>=1.21.6 in /usr/local/lib/python3.10/dist-packages (from scipy->torch-sparse) (1.23.5)\n",
            "Installing collected packages: torch-sparse\n",
            "Successfully installed torch-sparse-0.6.18+pt21cu118\n",
            "Collecting torch-geometric\n",
            "  Downloading torch_geometric-2.4.0-py3-none-any.whl (1.0 MB)\n",
            "\u001b[2K     \u001b[90m━━━━━━━━━━━━━━━━━━━━━━━━━━━━━━━━━━━━━━━━\u001b[0m \u001b[32m1.0/1.0 MB\u001b[0m \u001b[31m9.7 MB/s\u001b[0m eta \u001b[36m0:00:00\u001b[0m\n",
            "\u001b[?25hRequirement already satisfied: tqdm in /usr/local/lib/python3.10/dist-packages (from torch-geometric) (4.66.1)\n",
            "Requirement already satisfied: numpy in /usr/local/lib/python3.10/dist-packages (from torch-geometric) (1.23.5)\n",
            "Requirement already satisfied: scipy in /usr/local/lib/python3.10/dist-packages (from torch-geometric) (1.11.4)\n",
            "Requirement already satisfied: jinja2 in /usr/local/lib/python3.10/dist-packages (from torch-geometric) (3.1.2)\n",
            "Requirement already satisfied: requests in /usr/local/lib/python3.10/dist-packages (from torch-geometric) (2.31.0)\n",
            "Requirement already satisfied: pyparsing in /usr/local/lib/python3.10/dist-packages (from torch-geometric) (3.1.1)\n",
            "Requirement already satisfied: scikit-learn in /usr/local/lib/python3.10/dist-packages (from torch-geometric) (1.2.2)\n",
            "Requirement already satisfied: psutil>=5.8.0 in /usr/local/lib/python3.10/dist-packages (from torch-geometric) (5.9.5)\n",
            "Requirement already satisfied: MarkupSafe>=2.0 in /usr/local/lib/python3.10/dist-packages (from jinja2->torch-geometric) (2.1.3)\n",
            "Requirement already satisfied: charset-normalizer<4,>=2 in /usr/local/lib/python3.10/dist-packages (from requests->torch-geometric) (3.3.2)\n",
            "Requirement already satisfied: idna<4,>=2.5 in /usr/local/lib/python3.10/dist-packages (from requests->torch-geometric) (3.6)\n",
            "Requirement already satisfied: urllib3<3,>=1.21.1 in /usr/local/lib/python3.10/dist-packages (from requests->torch-geometric) (2.0.7)\n",
            "Requirement already satisfied: certifi>=2017.4.17 in /usr/local/lib/python3.10/dist-packages (from requests->torch-geometric) (2023.11.17)\n",
            "Requirement already satisfied: joblib>=1.1.1 in /usr/local/lib/python3.10/dist-packages (from scikit-learn->torch-geometric) (1.3.2)\n",
            "Requirement already satisfied: threadpoolctl>=2.0.0 in /usr/local/lib/python3.10/dist-packages (from scikit-learn->torch-geometric) (3.2.0)\n",
            "Installing collected packages: torch-geometric\n",
            "Successfully installed torch-geometric-2.4.0\n",
            "  Preparing metadata (setup.py) ... \u001b[?25l\u001b[?25hdone\n",
            "  Building wheel for deepsnap (setup.py) ... \u001b[?25l\u001b[?25hdone\n"
          ]
        }
      ],
      "source": [
        "# Install torch geometric\n",
        "import os\n",
        "import torch\n",
        "if 'IS_GRADESCOPE_ENV' not in os.environ:\n",
        "  torch_version = str(torch.__version__)\n",
        "  scatter_src = f\"https://pytorch-geometric.com/whl/torch-{torch_version}.html\"\n",
        "  sparse_src = f\"https://pytorch-geometric.com/whl/torch-{torch_version}.html\"\n",
        "  !pip install torch-scatter -f $scatter_src\n",
        "  !pip install torch-sparse -f $sparse_src\n",
        "  !pip install torch-geometric\n",
        "  !pip install -q git+https://github.com/snap-stanford/deepsnap.git\n",
        "  !pip install -U -q PyDrive"
      ]
    },
    {
      "cell_type": "code",
      "execution_count": 2,
      "metadata": {
        "id": "Qpr0ThDgZmZV",
        "colab": {
          "base_uri": "https://localhost:8080/"
        },
        "outputId": "db89e338-740c-4d9c-cf77-46644b9b664e"
      },
      "outputs": [
        {
          "output_type": "stream",
          "name": "stdout",
          "text": [
            "nvcc: NVIDIA (R) Cuda compiler driver\n",
            "Copyright (c) 2005-2022 NVIDIA Corporation\n",
            "Built on Wed_Sep_21_10:33:58_PDT_2022\n",
            "Cuda compilation tools, release 11.8, V11.8.89\n",
            "Build cuda_11.8.r11.8/compiler.31833905_0\n",
            "11.8\n"
          ]
        }
      ],
      "source": [
        "if 'IS_GRADESCOPE_ENV' not in os.environ:\n",
        "  !nvcc --version\n",
        "  !python -c \"import torch; print(torch.version.cuda)\""
      ]
    },
    {
      "cell_type": "code",
      "execution_count": 10,
      "metadata": {
        "id": "PRfgbfTjCRD_",
        "colab": {
          "base_uri": "https://localhost:8080/"
        },
        "outputId": "0a404f4d-6b51-4806-fcbe-eb0d7348f192"
      },
      "outputs": [
        {
          "output_type": "stream",
          "name": "stdout",
          "text": [
            "2.1.0+cu118\n",
            "2.4.0\n"
          ]
        }
      ],
      "source": [
        "if 'IS_GRADESCOPE_ENV' not in os.environ:\n",
        "  import torch\n",
        "  print(torch.__version__)\n",
        "  import torch_geometric\n",
        "  print(torch_geometric.__version__)"
      ]
    },
    {
      "cell_type": "code",
      "execution_count": 4,
      "metadata": {
        "colab": {
          "base_uri": "https://localhost:8080/"
        },
        "id": "i1Re1G-ZlcQP",
        "outputId": "604ced9e-7024-45ec-b11a-00fcf596f47c"
      },
      "outputs": [
        {
          "output_type": "stream",
          "name": "stdout",
          "text": [
            "Cloning into 'graph_wavenet'...\n",
            "remote: Enumerating objects: 54, done.\u001b[K\n",
            "remote: Counting objects: 100% (54/54), done.\u001b[K\n",
            "remote: Compressing objects: 100% (46/46), done.\u001b[K\n",
            "remote: Total 54 (delta 19), reused 32 (delta 6), pack-reused 0\u001b[K\n",
            "Receiving objects: 100% (54/54), 22.70 KiB | 11.35 MiB/s, done.\n",
            "Resolving deltas: 100% (19/19), done.\n"
          ]
        }
      ],
      "source": [
        "# Import GraphWaveNet module\n",
        "!git clone https://github.com/ggaoshen/graph_wavenet.git\n",
        "%load graph_wavenet/src/graphwavenet.py\n",
        "import sys\n",
        "sys.path.append('graph_wavenet/src/')\n",
        "from graphwavenet import GraphWaveNet"
      ]
    },
    {
      "cell_type": "code",
      "execution_count": 5,
      "metadata": {
        "colab": {
          "base_uri": "https://localhost:8080/"
        },
        "id": "xGgtAIg9lcQP",
        "outputId": "fd1fd122-7430-4f36-9791-11ee80eac1b4"
      },
      "outputs": [
        {
          "output_type": "stream",
          "name": "stdout",
          "text": [
            "Collecting py-tgb\n",
            "  Downloading py_tgb-0.9.2-py3-none-any.whl (61 kB)\n",
            "\u001b[2K     \u001b[90m━━━━━━━━━━━━━━━━━━━━━━━━━━━━━━━━━━━━━━━━\u001b[0m \u001b[32m61.8/61.8 kB\u001b[0m \u001b[31m1.1 MB/s\u001b[0m eta \u001b[36m0:00:00\u001b[0m\n",
            "\u001b[?25hCollecting clint<0.6.0,>=0.5.1 (from py-tgb)\n",
            "  Downloading clint-0.5.1.tar.gz (29 kB)\n",
            "  Preparing metadata (setup.py) ... \u001b[?25l\u001b[?25hdone\n",
            "Requirement already satisfied: pandas<2.0.0,>=1.5.3 in /usr/local/lib/python3.10/dist-packages (from py-tgb) (1.5.3)\n",
            "Requirement already satisfied: requests<3.0.0,>=2.28.2 in /usr/local/lib/python3.10/dist-packages (from py-tgb) (2.31.0)\n",
            "Requirement already satisfied: scikit-learn<2.0.0,>=1.2.2 in /usr/local/lib/python3.10/dist-packages (from py-tgb) (1.2.2)\n",
            "Requirement already satisfied: torch-geometric<3.0.0,>=2.3.0 in /usr/local/lib/python3.10/dist-packages (from py-tgb) (2.4.0)\n",
            "Requirement already satisfied: tqdm<5.0.0,>=4.65.0 in /usr/local/lib/python3.10/dist-packages (from py-tgb) (4.66.1)\n",
            "Collecting args (from clint<0.6.0,>=0.5.1->py-tgb)\n",
            "  Downloading args-0.1.0.tar.gz (3.0 kB)\n",
            "  Preparing metadata (setup.py) ... \u001b[?25l\u001b[?25hdone\n",
            "Requirement already satisfied: python-dateutil>=2.8.1 in /usr/local/lib/python3.10/dist-packages (from pandas<2.0.0,>=1.5.3->py-tgb) (2.8.2)\n",
            "Requirement already satisfied: pytz>=2020.1 in /usr/local/lib/python3.10/dist-packages (from pandas<2.0.0,>=1.5.3->py-tgb) (2023.3.post1)\n",
            "Requirement already satisfied: numpy>=1.21.0 in /usr/local/lib/python3.10/dist-packages (from pandas<2.0.0,>=1.5.3->py-tgb) (1.23.5)\n",
            "Requirement already satisfied: charset-normalizer<4,>=2 in /usr/local/lib/python3.10/dist-packages (from requests<3.0.0,>=2.28.2->py-tgb) (3.3.2)\n",
            "Requirement already satisfied: idna<4,>=2.5 in /usr/local/lib/python3.10/dist-packages (from requests<3.0.0,>=2.28.2->py-tgb) (3.6)\n",
            "Requirement already satisfied: urllib3<3,>=1.21.1 in /usr/local/lib/python3.10/dist-packages (from requests<3.0.0,>=2.28.2->py-tgb) (2.0.7)\n",
            "Requirement already satisfied: certifi>=2017.4.17 in /usr/local/lib/python3.10/dist-packages (from requests<3.0.0,>=2.28.2->py-tgb) (2023.11.17)\n",
            "Requirement already satisfied: scipy>=1.3.2 in /usr/local/lib/python3.10/dist-packages (from scikit-learn<2.0.0,>=1.2.2->py-tgb) (1.11.4)\n",
            "Requirement already satisfied: joblib>=1.1.1 in /usr/local/lib/python3.10/dist-packages (from scikit-learn<2.0.0,>=1.2.2->py-tgb) (1.3.2)\n",
            "Requirement already satisfied: threadpoolctl>=2.0.0 in /usr/local/lib/python3.10/dist-packages (from scikit-learn<2.0.0,>=1.2.2->py-tgb) (3.2.0)\n",
            "Requirement already satisfied: jinja2 in /usr/local/lib/python3.10/dist-packages (from torch-geometric<3.0.0,>=2.3.0->py-tgb) (3.1.2)\n",
            "Requirement already satisfied: pyparsing in /usr/local/lib/python3.10/dist-packages (from torch-geometric<3.0.0,>=2.3.0->py-tgb) (3.1.1)\n",
            "Requirement already satisfied: psutil>=5.8.0 in /usr/local/lib/python3.10/dist-packages (from torch-geometric<3.0.0,>=2.3.0->py-tgb) (5.9.5)\n",
            "Requirement already satisfied: six>=1.5 in /usr/local/lib/python3.10/dist-packages (from python-dateutil>=2.8.1->pandas<2.0.0,>=1.5.3->py-tgb) (1.16.0)\n",
            "Requirement already satisfied: MarkupSafe>=2.0 in /usr/local/lib/python3.10/dist-packages (from jinja2->torch-geometric<3.0.0,>=2.3.0->py-tgb) (2.1.3)\n",
            "Building wheels for collected packages: clint, args\n",
            "  Building wheel for clint (setup.py) ... \u001b[?25l\u001b[?25hdone\n",
            "  Created wheel for clint: filename=clint-0.5.1-py3-none-any.whl size=34457 sha256=929a6ce828c18bef76fcdac72bbc9233cad38d3945ac3a196630bab33c2d3499\n",
            "  Stored in directory: /root/.cache/pip/wheels/60/bd/a0/c20dd085251d95af656b5e3d287db7d4b4e8aec67b53a6f8dd\n",
            "  Building wheel for args (setup.py) ... \u001b[?25l\u001b[?25hdone\n",
            "  Created wheel for args: filename=args-0.1.0-py3-none-any.whl size=3318 sha256=9151f7d4473819c1413650c37199ebf0146ff6b6e9a837736936984efaee9033\n",
            "  Stored in directory: /root/.cache/pip/wheels/18/d7/bc/7b88d8405d97070a1a62712fd639ea0ad8d14b3dd74075cca6\n",
            "Successfully built clint args\n",
            "Installing collected packages: args, clint, py-tgb\n",
            "Successfully installed args-0.1.0 clint-0.5.1 py-tgb-0.9.2\n",
            "Will you download the dataset(s) now? (y/N)\n",
            "y\n",
            "\u001b[93mDownload started, this might take a while . . . \u001b[0m\n",
            "Dataset title: tgbn-trade\n",
            "\u001b[92mDownload completed \u001b[0m\n",
            "Dataset directory is  /usr/local/lib/python3.10/dist-packages/tgb/datasets/tgbn_trade\n",
            "file not processed, generating processed file\n",
            "number of lines counted 468245\n"
          ]
        },
        {
          "output_type": "stream",
          "name": "stderr",
          "text": [
            "468246it [00:02, 158028.50it/s]\n",
            "458775it [00:01, 306121.21it/s]\n"
          ]
        },
        {
          "output_type": "stream",
          "name": "stdout",
          "text": [
            "file processed and saved\n"
          ]
        }
      ],
      "source": [
        "# Install and import TGB dataset\n",
        "!pip install py-tgb\n",
        "from tgb.nodeproppred.dataset_pyg import PyGNodePropPredDataset\n",
        "\n",
        "name = \"tgbn-trade\"\n",
        "dataset = PyGNodePropPredDataset(name=name, root=\"datasets\")"
      ]
    },
    {
      "cell_type": "code",
      "source": [
        "class NodePredictor(torch.nn.Module):\n",
        "    def __init__(self, in_dim, out_dim):\n",
        "        super().__init__()\n",
        "        self.lin_node = torch.nn.Linear(in_dim, in_dim)\n",
        "        self.out = torch.nn.Linear(in_dim, out_dim)\n",
        "\n",
        "    def forward(self, node_embed):\n",
        "        h = self.lin_node(node_embed)\n",
        "        h = h.relu()\n",
        "        h = self.out(h)\n",
        "        # h = F.log_softmax(h, dim=-1)\n",
        "        return h"
      ],
      "metadata": {
        "id": "MdxyClDa460e"
      },
      "execution_count": 7,
      "outputs": []
    },
    {
      "cell_type": "code",
      "source": [
        "dataset[0].num_nodes"
      ],
      "metadata": {
        "id": "rW_Gc1oQ8rNC",
        "outputId": "b71bb907-25a1-4eb7-a74a-b0ab96bfa123",
        "colab": {
          "base_uri": "https://localhost:8080/"
        }
      },
      "execution_count": 19,
      "outputs": [
        {
          "output_type": "execute_result",
          "data": {
            "text/plain": [
              "2"
            ]
          },
          "metadata": {},
          "execution_count": 19
        }
      ]
    },
    {
      "cell_type": "code",
      "execution_count": 20,
      "metadata": {
        "colab": {
          "base_uri": "https://localhost:8080/",
          "height": 453
        },
        "id": "og8ww407lcQP",
        "outputId": "2447bb53-f8cd-4293-cf6b-d9a6f082f951"
      },
      "outputs": [
        {
          "output_type": "stream",
          "name": "stdout",
          "text": [
            "raw file found, skipping download\n",
            "Dataset directory is  /usr/local/lib/python3.10/dist-packages/tgb/datasets/tgbn_trade\n",
            "loading processed file\n"
          ]
        },
        {
          "output_type": "error",
          "ename": "TypeError",
          "evalue": "ignored",
          "traceback": [
            "\u001b[0;31m---------------------------------------------------------------------------\u001b[0m",
            "\u001b[0;31mTypeError\u001b[0m                                 Traceback (most recent call last)",
            "\u001b[0;32m<ipython-input-20-84bea36a3d5e>\u001b[0m in \u001b[0;36m<cell line: 312>\u001b[0;34m()\u001b[0m\n\u001b[1;32m    312\u001b[0m \u001b[0;32mfor\u001b[0m \u001b[0mepoch\u001b[0m \u001b[0;32min\u001b[0m \u001b[0mrange\u001b[0m\u001b[0;34m(\u001b[0m\u001b[0;36m1\u001b[0m\u001b[0;34m,\u001b[0m \u001b[0mepochs\u001b[0m \u001b[0;34m+\u001b[0m \u001b[0;36m1\u001b[0m\u001b[0;34m)\u001b[0m\u001b[0;34m:\u001b[0m\u001b[0;34m\u001b[0m\u001b[0;34m\u001b[0m\u001b[0m\n\u001b[1;32m    313\u001b[0m     \u001b[0mstart_time\u001b[0m \u001b[0;34m=\u001b[0m \u001b[0mtimeit\u001b[0m\u001b[0;34m.\u001b[0m\u001b[0mdefault_timer\u001b[0m\u001b[0;34m(\u001b[0m\u001b[0;34m)\u001b[0m\u001b[0;34m\u001b[0m\u001b[0;34m\u001b[0m\u001b[0m\n\u001b[0;32m--> 314\u001b[0;31m     \u001b[0mtrain_dict\u001b[0m \u001b[0;34m=\u001b[0m \u001b[0mtrain\u001b[0m\u001b[0;34m(\u001b[0m\u001b[0;34m)\u001b[0m\u001b[0;34m\u001b[0m\u001b[0;34m\u001b[0m\u001b[0m\n\u001b[0m\u001b[1;32m    315\u001b[0m     \u001b[0mprint\u001b[0m\u001b[0;34m(\u001b[0m\u001b[0;34m\"------------------------------------\"\u001b[0m\u001b[0;34m)\u001b[0m\u001b[0;34m\u001b[0m\u001b[0;34m\u001b[0m\u001b[0m\n\u001b[1;32m    316\u001b[0m     \u001b[0mprint\u001b[0m\u001b[0;34m(\u001b[0m\u001b[0;34mf\"training Epoch: {epoch:02d}\"\u001b[0m\u001b[0;34m)\u001b[0m\u001b[0;34m\u001b[0m\u001b[0;34m\u001b[0m\u001b[0m\n",
            "\u001b[0;32m<ipython-input-20-84bea36a3d5e>\u001b[0m in \u001b[0;36mtrain\u001b[0;34m()\u001b[0m\n\u001b[1;32m    180\u001b[0m             \u001b[0mz\u001b[0m\u001b[0;34m,\u001b[0m \u001b[0mlast_update\u001b[0m \u001b[0;34m=\u001b[0m \u001b[0mmemory\u001b[0m\u001b[0;34m(\u001b[0m\u001b[0mn_id_neighbors\u001b[0m\u001b[0;34m)\u001b[0m\u001b[0;34m\u001b[0m\u001b[0;34m\u001b[0m\u001b[0m\n\u001b[1;32m    181\u001b[0m \u001b[0;34m\u001b[0m\u001b[0m\n\u001b[0;32m--> 182\u001b[0;31m             z = gnn(\n\u001b[0m\u001b[1;32m    183\u001b[0m                 \u001b[0mz\u001b[0m\u001b[0;34m,\u001b[0m\u001b[0;34m\u001b[0m\u001b[0;34m\u001b[0m\u001b[0m\n\u001b[1;32m    184\u001b[0m                 \u001b[0mlast_update\u001b[0m\u001b[0;34m,\u001b[0m\u001b[0;34m\u001b[0m\u001b[0;34m\u001b[0m\u001b[0m\n",
            "\u001b[0;32m/usr/local/lib/python3.10/dist-packages/torch/nn/modules/module.py\u001b[0m in \u001b[0;36m_wrapped_call_impl\u001b[0;34m(self, *args, **kwargs)\u001b[0m\n\u001b[1;32m   1516\u001b[0m             \u001b[0;32mreturn\u001b[0m \u001b[0mself\u001b[0m\u001b[0;34m.\u001b[0m\u001b[0m_compiled_call_impl\u001b[0m\u001b[0;34m(\u001b[0m\u001b[0;34m*\u001b[0m\u001b[0margs\u001b[0m\u001b[0;34m,\u001b[0m \u001b[0;34m**\u001b[0m\u001b[0mkwargs\u001b[0m\u001b[0;34m)\u001b[0m  \u001b[0;31m# type: ignore[misc]\u001b[0m\u001b[0;34m\u001b[0m\u001b[0;34m\u001b[0m\u001b[0m\n\u001b[1;32m   1517\u001b[0m         \u001b[0;32melse\u001b[0m\u001b[0;34m:\u001b[0m\u001b[0;34m\u001b[0m\u001b[0;34m\u001b[0m\u001b[0m\n\u001b[0;32m-> 1518\u001b[0;31m             \u001b[0;32mreturn\u001b[0m \u001b[0mself\u001b[0m\u001b[0;34m.\u001b[0m\u001b[0m_call_impl\u001b[0m\u001b[0;34m(\u001b[0m\u001b[0;34m*\u001b[0m\u001b[0margs\u001b[0m\u001b[0;34m,\u001b[0m \u001b[0;34m**\u001b[0m\u001b[0mkwargs\u001b[0m\u001b[0;34m)\u001b[0m\u001b[0;34m\u001b[0m\u001b[0;34m\u001b[0m\u001b[0m\n\u001b[0m\u001b[1;32m   1519\u001b[0m \u001b[0;34m\u001b[0m\u001b[0m\n\u001b[1;32m   1520\u001b[0m     \u001b[0;32mdef\u001b[0m \u001b[0m_call_impl\u001b[0m\u001b[0;34m(\u001b[0m\u001b[0mself\u001b[0m\u001b[0;34m,\u001b[0m \u001b[0;34m*\u001b[0m\u001b[0margs\u001b[0m\u001b[0;34m,\u001b[0m \u001b[0;34m**\u001b[0m\u001b[0mkwargs\u001b[0m\u001b[0;34m)\u001b[0m\u001b[0;34m:\u001b[0m\u001b[0;34m\u001b[0m\u001b[0;34m\u001b[0m\u001b[0m\n",
            "\u001b[0;32m/usr/local/lib/python3.10/dist-packages/torch/nn/modules/module.py\u001b[0m in \u001b[0;36m_call_impl\u001b[0;34m(self, *args, **kwargs)\u001b[0m\n\u001b[1;32m   1525\u001b[0m                 \u001b[0;32mor\u001b[0m \u001b[0m_global_backward_pre_hooks\u001b[0m \u001b[0;32mor\u001b[0m \u001b[0m_global_backward_hooks\u001b[0m\u001b[0;34m\u001b[0m\u001b[0;34m\u001b[0m\u001b[0m\n\u001b[1;32m   1526\u001b[0m                 or _global_forward_hooks or _global_forward_pre_hooks):\n\u001b[0;32m-> 1527\u001b[0;31m             \u001b[0;32mreturn\u001b[0m \u001b[0mforward_call\u001b[0m\u001b[0;34m(\u001b[0m\u001b[0;34m*\u001b[0m\u001b[0margs\u001b[0m\u001b[0;34m,\u001b[0m \u001b[0;34m**\u001b[0m\u001b[0mkwargs\u001b[0m\u001b[0;34m)\u001b[0m\u001b[0;34m\u001b[0m\u001b[0;34m\u001b[0m\u001b[0m\n\u001b[0m\u001b[1;32m   1528\u001b[0m \u001b[0;34m\u001b[0m\u001b[0m\n\u001b[1;32m   1529\u001b[0m         \u001b[0;32mtry\u001b[0m\u001b[0;34m:\u001b[0m\u001b[0;34m\u001b[0m\u001b[0;34m\u001b[0m\u001b[0m\n",
            "\u001b[0;31mTypeError\u001b[0m: GraphWaveNet.forward() takes from 3 to 4 positional arguments but 6 were given"
          ]
        }
      ],
      "source": [
        "# TGB Example - not working yet\n",
        "\n",
        "import timeit\n",
        "import argparse\n",
        "from tqdm import tqdm\n",
        "import torch\n",
        "import matplotlib.pyplot as plt\n",
        "\n",
        "from torch_geometric.loader import TemporalDataLoader\n",
        "from torch_geometric.nn import TGNMemory\n",
        "from torch_geometric.nn.models.tgn import (\n",
        "    IdentityMessage,\n",
        "    LastAggregator,\n",
        "    LastNeighborLoader,\n",
        ")\n",
        "\n",
        "# from modules.decoder import NodePredictor\n",
        "# from modules.emb_module import GraphAttentionEmbedding\n",
        "from tgb.nodeproppred.dataset_pyg import PyGNodePropPredDataset\n",
        "from tgb.nodeproppred.evaluate import Evaluator\n",
        "from tgb.utils.utils import set_random_seed\n",
        "from tgb.utils.stats import plot_curve\n",
        "\n",
        "# parser = argparse.ArgumentParser(description='parsing command line arguments as hyperparameters')\n",
        "# parser.add_argument('-s', '--seed', type=int, default=1,\n",
        "#                     help='random seed to use')\n",
        "# parser.parse_args(\"\")\n",
        "# args = parser.parse_args(\"\")\n",
        "# setting random seed\n",
        "# seed = int(args.seed) #1,2,3,4,5\n",
        "seed = 1\n",
        "torch.manual_seed(seed)\n",
        "set_random_seed(seed)\n",
        "\n",
        "# main inputs\n",
        "num_timesteps = 12\n",
        "num_nodes = dataset[0].num_nodes # To be updated\n",
        "\n",
        "# hyperparameters\n",
        "lr = 0.0001\n",
        "epochs = 50\n",
        "\n",
        "device = torch.device(\"cuda\" if torch.cuda.is_available() else \"cpu\")\n",
        "name = \"tgbn-trade\"\n",
        "dataset = PyGNodePropPredDataset(name=name, root=\"datasets\")\n",
        "train_mask = dataset.train_mask\n",
        "val_mask = dataset.val_mask\n",
        "test_mask = dataset.test_mask\n",
        "\n",
        "eval_metric = dataset.eval_metric\n",
        "num_classes = dataset.num_classes\n",
        "data = dataset.get_TemporalData()\n",
        "data = data.to(device)\n",
        "\n",
        "evaluator = Evaluator(name=name)\n",
        "\n",
        "\n",
        "train_data = data[train_mask]\n",
        "val_data = data[val_mask]\n",
        "test_data = data[test_mask]\n",
        "\n",
        "# Ensure to only sample actual destination nodes as negatives.\n",
        "min_dst_idx, max_dst_idx = int(data.dst.min()), int(data.dst.max())\n",
        "\n",
        "batch_size = 200\n",
        "\n",
        "train_loader = TemporalDataLoader(train_data, batch_size=batch_size)\n",
        "val_loader = TemporalDataLoader(val_data, batch_size=batch_size)\n",
        "test_loader = TemporalDataLoader(test_data, batch_size=batch_size)\n",
        "\n",
        "neighbor_loader = LastNeighborLoader(data.num_nodes, size=10, device=device)\n",
        "\n",
        "memory_dim = time_dim = embedding_dim = 100\n",
        "\n",
        "memory = TGNMemory(\n",
        "    data.num_nodes,\n",
        "    data.msg.size(-1),\n",
        "    memory_dim,\n",
        "    time_dim,\n",
        "    message_module=IdentityMessage(data.msg.size(-1), memory_dim, time_dim),\n",
        "    aggregator_module=LastAggregator(),\n",
        ").to(device)\n",
        "\n",
        "gnn = (\n",
        "    GraphWaveNet(\n",
        "        in_channels=memory_dim,\n",
        "        out_channels=embedding_dim,\n",
        "        num_nodes=num_nodes,\n",
        "        out_timesteps=num_timesteps,\n",
        "        # msg_dim=data.msg.size(-1),\n",
        "        # time_enc=memory.time_enc,\n",
        "    )\n",
        "    .to(device)\n",
        "    .float()\n",
        ")\n",
        "\n",
        "node_pred = NodePredictor(in_dim=embedding_dim, out_dim=num_classes).to(device)\n",
        "\n",
        "optimizer = torch.optim.Adam(\n",
        "    set(memory.parameters()) | set(gnn.parameters()) | set(node_pred.parameters()),\n",
        "    lr=lr,\n",
        ")\n",
        "\n",
        "criterion = torch.nn.CrossEntropyLoss()\n",
        "# Helper vector to map global node indices to local ones.\n",
        "assoc = torch.empty(data.num_nodes, dtype=torch.long, device=device)\n",
        "\n",
        "\n",
        "def plot_curve(scores, out_name):\n",
        "    plt.plot(scores, color=\"#e34a33\")\n",
        "    plt.ylabel(\"score\")\n",
        "    plt.savefig(out_name + \".pdf\")\n",
        "    plt.close()\n",
        "\n",
        "\n",
        "def process_edges(src, dst, t, msg):\n",
        "    if src.nelement() > 0:\n",
        "        # msg = msg.to(torch.float32)\n",
        "        memory.update_state(src, dst, t, msg)\n",
        "        neighbor_loader.insert(src, dst)\n",
        "\n",
        "\n",
        "def train():\n",
        "    memory.train()\n",
        "    gnn.train()\n",
        "    node_pred.train()\n",
        "\n",
        "    memory.reset_state()  # Start with a fresh memory.\n",
        "    neighbor_loader.reset_state()  # Start with an empty graph.\n",
        "\n",
        "    total_loss = 0\n",
        "    label_t = dataset.get_label_time()  # check when does the first label start\n",
        "    num_label_ts = 0\n",
        "    total_score = 0\n",
        "\n",
        "    for batch in train_loader:\n",
        "        batch = batch.to(device)\n",
        "        optimizer.zero_grad()\n",
        "        src, dst, t, msg = batch.src, batch.dst, batch.t, batch.msg\n",
        "\n",
        "        query_t = batch.t[-1]\n",
        "        # check if this batch moves to the next day\n",
        "        if query_t > label_t:\n",
        "            # find the node labels from the past day\n",
        "            label_tuple = dataset.get_node_label(query_t)\n",
        "            label_ts, label_srcs, labels = (\n",
        "                label_tuple[0],\n",
        "                label_tuple[1],\n",
        "                label_tuple[2],\n",
        "            )\n",
        "            label_t = dataset.get_label_time()\n",
        "            label_srcs = label_srcs.to(device)\n",
        "\n",
        "            # Process all edges that are still in the past day\n",
        "            previous_day_mask = batch.t < label_t\n",
        "            process_edges(\n",
        "                src[previous_day_mask],\n",
        "                dst[previous_day_mask],\n",
        "                t[previous_day_mask],\n",
        "                msg[previous_day_mask],\n",
        "            )\n",
        "            # Reset edges to be the edges from tomorrow so they can be used later\n",
        "            src, dst, t, msg = (\n",
        "                src[~previous_day_mask],\n",
        "                dst[~previous_day_mask],\n",
        "                t[~previous_day_mask],\n",
        "                msg[~previous_day_mask],\n",
        "            )\n",
        "\n",
        "            \"\"\"\n",
        "            modified for node property prediction\n",
        "            1. sample neighbors from the neighbor loader for all nodes to be predicted\n",
        "            2. extract memory from the sampled neighbors and the nodes\n",
        "            3. run gnn with the extracted memory embeddings and the corresponding time and message\n",
        "            \"\"\"\n",
        "            n_id = label_srcs\n",
        "            n_id_neighbors, mem_edge_index, e_id = neighbor_loader(n_id)\n",
        "            assoc[n_id_neighbors] = torch.arange(n_id_neighbors.size(0), device=device)\n",
        "\n",
        "            z, last_update = memory(n_id_neighbors)\n",
        "\n",
        "            z = gnn(\n",
        "                z,\n",
        "                last_update,\n",
        "                mem_edge_index,\n",
        "                data.t[e_id].to(device),\n",
        "                data.msg[e_id].to(device),\n",
        "            )\n",
        "            z = z[assoc[n_id]]\n",
        "\n",
        "            # loss and metric computation\n",
        "            pred = node_pred(z)\n",
        "\n",
        "            loss = criterion(pred, labels.to(device))\n",
        "            np_pred = pred.cpu().detach().numpy()\n",
        "            np_true = labels.cpu().detach().numpy()\n",
        "\n",
        "            input_dict = {\n",
        "                \"y_true\": np_true,\n",
        "                \"y_pred\": np_pred,\n",
        "                \"eval_metric\": [eval_metric],\n",
        "            }\n",
        "            result_dict = evaluator.eval(input_dict)\n",
        "            score = result_dict[eval_metric]\n",
        "            total_score += score\n",
        "            num_label_ts += 1\n",
        "\n",
        "            loss.backward()\n",
        "            optimizer.step()\n",
        "            total_loss += float(loss)\n",
        "\n",
        "        # Update memory and neighbor loader with ground-truth state.\n",
        "        process_edges(src, dst, t, msg)\n",
        "        memory.detach()\n",
        "\n",
        "    metric_dict = {\n",
        "        \"ce\": total_loss / num_label_ts,\n",
        "    }\n",
        "    metric_dict[eval_metric] = total_score / num_label_ts\n",
        "    return metric_dict\n",
        "\n",
        "\n",
        "@torch.no_grad()\n",
        "def test(loader):\n",
        "    memory.eval()\n",
        "    gnn.eval()\n",
        "    node_pred.eval()\n",
        "    total_score = 0\n",
        "    label_t = dataset.get_label_time()  # check when does the first label start\n",
        "    num_label_ts = 0\n",
        "\n",
        "    for batch in loader:\n",
        "        batch = batch.to(device)\n",
        "        src, dst, t, msg = batch.src, batch.dst, batch.t, batch.msg\n",
        "\n",
        "        query_t = batch.t[-1]\n",
        "        if query_t > label_t:\n",
        "            label_tuple = dataset.get_node_label(query_t)\n",
        "            if label_tuple is None:\n",
        "                break\n",
        "            label_ts, label_srcs, labels = (\n",
        "                label_tuple[0],\n",
        "                label_tuple[1],\n",
        "                label_tuple[2],\n",
        "            )\n",
        "            label_t = dataset.get_label_time()\n",
        "            label_srcs = label_srcs.to(device)\n",
        "\n",
        "            # Process all edges that are still in the past day\n",
        "            previous_day_mask = batch.t < label_t\n",
        "            process_edges(\n",
        "                src[previous_day_mask],\n",
        "                dst[previous_day_mask],\n",
        "                t[previous_day_mask],\n",
        "                msg[previous_day_mask],\n",
        "            )\n",
        "            # Reset edges to be the edges from tomorrow so they can be used later\n",
        "            src, dst, t, msg = (\n",
        "                src[~previous_day_mask],\n",
        "                dst[~previous_day_mask],\n",
        "                t[~previous_day_mask],\n",
        "                msg[~previous_day_mask],\n",
        "            )\n",
        "\n",
        "            \"\"\"\n",
        "            modified for node property prediction\n",
        "            1. sample neighbors from the neighbor loader for all nodes to be predicted\n",
        "            2. extract memory from the sampled neighbors and the nodes\n",
        "            3. run gnn with the extracted memory embeddings and the corresponding time and message\n",
        "            \"\"\"\n",
        "            n_id = label_srcs\n",
        "            n_id_neighbors, mem_edge_index, e_id = neighbor_loader(n_id)\n",
        "            assoc[n_id_neighbors] = torch.arange(n_id_neighbors.size(0), device=device)\n",
        "\n",
        "            z, last_update = memory(n_id_neighbors)\n",
        "            z = gnn(\n",
        "                z,\n",
        "                last_update,\n",
        "                mem_edge_index,\n",
        "                data.t[e_id].to(device),\n",
        "                data.msg[e_id].to(device),\n",
        "            )\n",
        "            z = z[assoc[n_id]]\n",
        "\n",
        "            # loss and metric computation\n",
        "            pred = node_pred(z)\n",
        "            np_pred = pred.cpu().detach().numpy()\n",
        "            np_true = labels.cpu().detach().numpy()\n",
        "\n",
        "            input_dict = {\n",
        "                \"y_true\": np_true,\n",
        "                \"y_pred\": np_pred,\n",
        "                \"eval_metric\": [eval_metric],\n",
        "            }\n",
        "            result_dict = evaluator.eval(input_dict)\n",
        "            score = result_dict[eval_metric]\n",
        "            total_score += score\n",
        "            num_label_ts += 1\n",
        "\n",
        "        process_edges(src, dst, t, msg)\n",
        "\n",
        "    metric_dict = {}\n",
        "    metric_dict[eval_metric] = total_score / num_label_ts\n",
        "    return metric_dict\n",
        "\n",
        "\n",
        "train_curve = []\n",
        "val_curve = []\n",
        "test_curve = []\n",
        "max_val_score = 0  #find the best test score based on validation score\n",
        "best_test_idx = 0\n",
        "for epoch in range(1, epochs + 1):\n",
        "    start_time = timeit.default_timer()\n",
        "    train_dict = train()\n",
        "    print(\"------------------------------------\")\n",
        "    print(f\"training Epoch: {epoch:02d}\")\n",
        "    print(train_dict)\n",
        "    train_curve.append(train_dict[eval_metric])\n",
        "    print(\"Training takes--- %s seconds ---\" % (timeit.default_timer() - start_time))\n",
        "\n",
        "    start_time = timeit.default_timer()\n",
        "    val_dict = test(val_loader)\n",
        "    print(val_dict)\n",
        "    val_curve.append(val_dict[eval_metric])\n",
        "    if (val_dict[eval_metric] > max_val_score):\n",
        "        max_val_score = val_dict[eval_metric]\n",
        "        best_test_idx = epoch - 1\n",
        "    print(\"Validation takes--- %s seconds ---\" % (timeit.default_timer() - start_time))\n",
        "\n",
        "    start_time = timeit.default_timer()\n",
        "    test_dict = test(test_loader)\n",
        "    print(test_dict)\n",
        "    test_curve.append(test_dict[eval_metric])\n",
        "    print(\"Test takes--- %s seconds ---\" % (timeit.default_timer() - start_time))\n",
        "    print(\"------------------------------------\")\n",
        "    dataset.reset_label_time()\n",
        "\n",
        "\n",
        "# code for plotting\n",
        "plot_curve(train_curve, \"train_curve\")\n",
        "plot_curve(val_curve, \"val_curve\")\n",
        "plot_curve(test_curve, \"test_curve\")\n",
        "\n",
        "max_test_score = test_curve[best_test_idx]\n",
        "print(\"------------------------------------\")\n",
        "print(\"------------------------------------\")\n",
        "print (\"best val score: \", max_val_score)\n",
        "print (\"best validation epoch   : \", best_test_idx + 1)\n",
        "print (\"best test score: \", max_test_score)"
      ]
    },
    {
      "cell_type": "code",
      "source": [],
      "metadata": {
        "id": "cOwkfELm5GY0"
      },
      "execution_count": null,
      "outputs": []
    }
  ],
  "metadata": {
    "accelerator": "GPU",
    "colab": {
      "machine_shape": "hm",
      "provenance": [],
      "include_colab_link": true
    },
    "kernelspec": {
      "display_name": "Python 3",
      "language": "python",
      "name": "python3"
    },
    "language_info": {
      "codemirror_mode": {
        "name": "ipython",
        "version": 3
      },
      "file_extension": ".py",
      "mimetype": "text/x-python",
      "name": "python",
      "nbconvert_exporter": "python",
      "pygments_lexer": "ipython3",
      "version": "3.7.3"
    }
  },
  "nbformat": 4,
  "nbformat_minor": 0
}