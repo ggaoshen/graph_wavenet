{
  "cells": [
    {
      "cell_type": "markdown",
      "metadata": {
        "id": "XuXWJLEm2UWS"
      },
      "source": [
        "# **CS224W - Final Project**"
      ]
    },
    {
      "cell_type": "markdown",
      "metadata": {
        "id": "8gzsP50bF6Gb"
      },
      "source": [
        "Description goes here."
      ]
    },
    {
      "cell_type": "markdown",
      "metadata": {
        "id": "MSaetj53YnT6"
      },
      "source": [
        "# Device\n",
        "You might need to use GPU for this Colab.\n",
        "\n",
        "Please click `Runtime` and then `Change runtime type`. Then set the `hardware accelerator` to **GPU**."
      ]
    },
    {
      "cell_type": "markdown",
      "metadata": {
        "id": "67gOQITlCNQi"
      },
      "source": [
        "# Installation"
      ]
    },
    {
      "cell_type": "code",
      "execution_count": 1,
      "metadata": {
        "colab": {
          "base_uri": "https://localhost:8080/"
        },
        "id": "J_m9l6OYCQZP",
        "outputId": "c8061925-cc5c-4d38-80b2-f3feaaec203a"
      },
      "outputs": [
        {
          "name": "stdout",
          "output_type": "stream",
          "text": [
            "Looking in links: https://pytorch-geometric.com/whl/torch-2.1.0+cu118.html\n",
            "Collecting torch-scatter\n",
            "  Downloading https://data.pyg.org/whl/torch-2.1.0%2Bcu118/torch_scatter-2.1.2%2Bpt21cu118-cp310-cp310-linux_x86_64.whl (10.2 MB)\n",
            "\u001b[2K     \u001b[90m━━━━━━━━━━━━━━━━━━━━━━━━━━━━━━━━━━━━━━━━\u001b[0m \u001b[32m10.2/10.2 MB\u001b[0m \u001b[31m65.0 MB/s\u001b[0m eta \u001b[36m0:00:00\u001b[0m\n",
            "\u001b[?25hInstalling collected packages: torch-scatter\n",
            "Successfully installed torch-scatter-2.1.2+pt21cu118\n",
            "Looking in links: https://pytorch-geometric.com/whl/torch-2.1.0+cu118.html\n",
            "Collecting torch-sparse\n",
            "  Downloading https://data.pyg.org/whl/torch-2.1.0%2Bcu118/torch_sparse-0.6.18%2Bpt21cu118-cp310-cp310-linux_x86_64.whl (4.9 MB)\n",
            "\u001b[2K     \u001b[90m━━━━━━━━━━━━━━━━━━━━━━━━━━━━━━━━━━━━━━━━\u001b[0m \u001b[32m4.9/4.9 MB\u001b[0m \u001b[31m20.6 MB/s\u001b[0m eta \u001b[36m0:00:00\u001b[0m\n",
            "\u001b[?25hRequirement already satisfied: scipy in /usr/local/lib/python3.10/dist-packages (from torch-sparse) (1.11.4)\n",
            "Requirement already satisfied: numpy<1.28.0,>=1.21.6 in /usr/local/lib/python3.10/dist-packages (from scipy->torch-sparse) (1.23.5)\n",
            "Installing collected packages: torch-sparse\n",
            "Successfully installed torch-sparse-0.6.18+pt21cu118\n",
            "Collecting torch-geometric\n",
            "  Downloading torch_geometric-2.4.0-py3-none-any.whl (1.0 MB)\n",
            "\u001b[2K     \u001b[90m━━━━━━━━━━━━━━━━━━━━━━━━━━━━━━━━━━━━━━━━\u001b[0m \u001b[32m1.0/1.0 MB\u001b[0m \u001b[31m12.8 MB/s\u001b[0m eta \u001b[36m0:00:00\u001b[0m\n",
            "\u001b[?25hRequirement already satisfied: tqdm in /usr/local/lib/python3.10/dist-packages (from torch-geometric) (4.66.1)\n",
            "Requirement already satisfied: numpy in /usr/local/lib/python3.10/dist-packages (from torch-geometric) (1.23.5)\n",
            "Requirement already satisfied: scipy in /usr/local/lib/python3.10/dist-packages (from torch-geometric) (1.11.4)\n",
            "Requirement already satisfied: jinja2 in /usr/local/lib/python3.10/dist-packages (from torch-geometric) (3.1.2)\n",
            "Requirement already satisfied: requests in /usr/local/lib/python3.10/dist-packages (from torch-geometric) (2.31.0)\n",
            "Requirement already satisfied: pyparsing in /usr/local/lib/python3.10/dist-packages (from torch-geometric) (3.1.1)\n",
            "Requirement already satisfied: scikit-learn in /usr/local/lib/python3.10/dist-packages (from torch-geometric) (1.2.2)\n",
            "Requirement already satisfied: psutil>=5.8.0 in /usr/local/lib/python3.10/dist-packages (from torch-geometric) (5.9.5)\n",
            "Requirement already satisfied: MarkupSafe>=2.0 in /usr/local/lib/python3.10/dist-packages (from jinja2->torch-geometric) (2.1.3)\n",
            "Requirement already satisfied: charset-normalizer<4,>=2 in /usr/local/lib/python3.10/dist-packages (from requests->torch-geometric) (3.3.2)\n",
            "Requirement already satisfied: idna<4,>=2.5 in /usr/local/lib/python3.10/dist-packages (from requests->torch-geometric) (3.6)\n",
            "Requirement already satisfied: urllib3<3,>=1.21.1 in /usr/local/lib/python3.10/dist-packages (from requests->torch-geometric) (2.0.7)\n",
            "Requirement already satisfied: certifi>=2017.4.17 in /usr/local/lib/python3.10/dist-packages (from requests->torch-geometric) (2023.11.17)\n",
            "Requirement already satisfied: joblib>=1.1.1 in /usr/local/lib/python3.10/dist-packages (from scikit-learn->torch-geometric) (1.3.2)\n",
            "Requirement already satisfied: threadpoolctl>=2.0.0 in /usr/local/lib/python3.10/dist-packages (from scikit-learn->torch-geometric) (3.2.0)\n",
            "Installing collected packages: torch-geometric\n",
            "Successfully installed torch-geometric-2.4.0\n",
            "  Preparing metadata (setup.py) ... \u001b[?25l\u001b[?25hdone\n",
            "  Building wheel for deepsnap (setup.py) ... \u001b[?25l\u001b[?25hdone\n"
          ]
        }
      ],
      "source": [
        "# Install torch geometric\n",
        "import os\n",
        "import torch\n",
        "if 'IS_GRADESCOPE_ENV' not in os.environ:\n",
        "  torch_version = str(torch.__version__)\n",
        "  scatter_src = f\"https://pytorch-geometric.com/whl/torch-{torch_version}.html\"\n",
        "  sparse_src = f\"https://pytorch-geometric.com/whl/torch-{torch_version}.html\"\n",
        "  !pip install torch-scatter -f $scatter_src\n",
        "  !pip install torch-sparse -f $sparse_src\n",
        "  !pip install torch-geometric\n",
        "  !pip install -q git+https://github.com/snap-stanford/deepsnap.git\n",
        "  !pip install -U -q PyDrive"
      ]
    },
    {
      "cell_type": "code",
      "execution_count": 2,
      "metadata": {
        "colab": {
          "base_uri": "https://localhost:8080/"
        },
        "id": "Qpr0ThDgZmZV",
        "outputId": "bc538bda-8eb2-4fef-d210-03431c6fdd50"
      },
      "outputs": [
        {
          "name": "stdout",
          "output_type": "stream",
          "text": [
            "nvcc: NVIDIA (R) Cuda compiler driver\n",
            "Copyright (c) 2005-2022 NVIDIA Corporation\n",
            "Built on Wed_Sep_21_10:33:58_PDT_2022\n",
            "Cuda compilation tools, release 11.8, V11.8.89\n",
            "Build cuda_11.8.r11.8/compiler.31833905_0\n",
            "11.8\n"
          ]
        }
      ],
      "source": [
        "if 'IS_GRADESCOPE_ENV' not in os.environ:\n",
        "  !nvcc --version\n",
        "  !python -c \"import torch; print(torch.version.cuda)\""
      ]
    },
    {
      "cell_type": "code",
      "execution_count": 3,
      "metadata": {
        "colab": {
          "base_uri": "https://localhost:8080/"
        },
        "id": "PRfgbfTjCRD_",
        "outputId": "8466ecba-b675-43ae-f039-c5f6cb057828"
      },
      "outputs": [
        {
          "name": "stdout",
          "output_type": "stream",
          "text": [
            "2.1.0+cu118\n",
            "2.4.0\n"
          ]
        }
      ],
      "source": [
        "if 'IS_GRADESCOPE_ENV' not in os.environ:\n",
        "  import torch\n",
        "  print(torch.__version__)\n",
        "  import torch_geometric\n",
        "  print(torch_geometric.__version__)"
      ]
    },
    {
      "cell_type": "code",
      "execution_count": 4,
      "metadata": {
        "colab": {
          "base_uri": "https://localhost:8080/"
        },
        "id": "i1Re1G-ZlcQP",
        "outputId": "7b2b9e13-a271-4371-bea7-7a2554154290"
      },
      "outputs": [
        {
          "name": "stdout",
          "output_type": "stream",
          "text": [
            "Cloning into 'graph_wavenet'...\n",
            "remote: Enumerating objects: 159, done.\u001b[K\n",
            "remote: Counting objects: 100% (159/159), done.\u001b[K\n",
            "remote: Compressing objects: 100% (117/117), done.\u001b[K\n",
            "remote: Total 159 (delta 88), reused 82 (delta 39), pack-reused 0\u001b[K\n",
            "Receiving objects: 100% (159/159), 110.19 KiB | 6.89 MiB/s, done.\n",
            "Resolving deltas: 100% (88/88), done.\n"
          ]
        }
      ],
      "source": [
        "# Import GraphWaveNet module\n",
        "!git clone -b mmajid/tgnn-improvements https://github.com/ggaoshen/graph_wavenet.git # NOTE: choose the right branch\n",
        "%load graph_wavenet/src/graphwavenet.py\n",
        "import sys\n",
        "sys.path.append('graph_wavenet/src/')\n",
        "from graphwavenet import GraphWaveNet\n",
        "import util as util\n",
        "from util import masked_rmse, masked_mse, masked_mae, masked_mape, metric"
      ]
    },
    {
      "cell_type": "code",
      "execution_count": 5,
      "metadata": {
        "colab": {
          "base_uri": "https://localhost:8080/"
        },
        "id": "xGgtAIg9lcQP",
        "outputId": "9d5e1f2e-769c-4abc-ef64-58e1afb8c58e"
      },
      "outputs": [
        {
          "name": "stdout",
          "output_type": "stream",
          "text": [
            "Collecting torch-geometric-temporal\n",
            "  Downloading torch_geometric_temporal-0.54.0.tar.gz (48 kB)\n",
            "\u001b[?25l     \u001b[90m━━━━━━━━━━━━━━━━━━━━━━━━━━━━━━━━━━━━━━━━\u001b[0m \u001b[32m0.0/48.1 kB\u001b[0m \u001b[31m?\u001b[0m eta \u001b[36m-:--:--\u001b[0m\r\u001b[2K     \u001b[90m━━━━━━━━━━━━━━━━━━━━━━━━━━━━━━━━━━━━━━━━\u001b[0m \u001b[32m48.1/48.1 kB\u001b[0m \u001b[31m1.5 MB/s\u001b[0m eta \u001b[36m0:00:00\u001b[0m\n",
            "\u001b[?25h  Preparing metadata (setup.py) ... \u001b[?25l\u001b[?25hdone\n",
            "Requirement already satisfied: decorator==4.4.2 in /usr/local/lib/python3.10/dist-packages (from torch-geometric-temporal) (4.4.2)\n",
            "Requirement already satisfied: torch in /usr/local/lib/python3.10/dist-packages (from torch-geometric-temporal) (2.1.0+cu118)\n",
            "Requirement already satisfied: cython in /usr/local/lib/python3.10/dist-packages (from torch-geometric-temporal) (3.0.6)\n",
            "Collecting pandas<=1.3.5 (from torch-geometric-temporal)\n",
            "  Downloading pandas-1.3.5-cp310-cp310-manylinux_2_17_x86_64.manylinux2014_x86_64.whl (11.5 MB)\n",
            "\u001b[2K     \u001b[90m━━━━━━━━━━━━━━━━━━━━━━━━━━━━━━━━━━━━━━━━\u001b[0m \u001b[32m11.5/11.5 MB\u001b[0m \u001b[31m76.1 MB/s\u001b[0m eta \u001b[36m0:00:00\u001b[0m\n",
            "\u001b[?25hRequirement already satisfied: torch_sparse in /usr/local/lib/python3.10/dist-packages (from torch-geometric-temporal) (0.6.18+pt21cu118)\n",
            "Requirement already satisfied: torch_scatter in /usr/local/lib/python3.10/dist-packages (from torch-geometric-temporal) (2.1.2+pt21cu118)\n",
            "Requirement already satisfied: torch_geometric in /usr/local/lib/python3.10/dist-packages (from torch-geometric-temporal) (2.4.0)\n",
            "Requirement already satisfied: numpy in /usr/local/lib/python3.10/dist-packages (from torch-geometric-temporal) (1.23.5)\n",
            "Requirement already satisfied: six in /usr/local/lib/python3.10/dist-packages (from torch-geometric-temporal) (1.16.0)\n",
            "Requirement already satisfied: networkx in /usr/local/lib/python3.10/dist-packages (from torch-geometric-temporal) (3.2.1)\n",
            "Requirement already satisfied: python-dateutil>=2.7.3 in /usr/local/lib/python3.10/dist-packages (from pandas<=1.3.5->torch-geometric-temporal) (2.8.2)\n",
            "Requirement already satisfied: pytz>=2017.3 in /usr/local/lib/python3.10/dist-packages (from pandas<=1.3.5->torch-geometric-temporal) (2023.3.post1)\n",
            "Requirement already satisfied: filelock in /usr/local/lib/python3.10/dist-packages (from torch->torch-geometric-temporal) (3.13.1)\n",
            "Requirement already satisfied: typing-extensions in /usr/local/lib/python3.10/dist-packages (from torch->torch-geometric-temporal) (4.5.0)\n",
            "Requirement already satisfied: sympy in /usr/local/lib/python3.10/dist-packages (from torch->torch-geometric-temporal) (1.12)\n",
            "Requirement already satisfied: jinja2 in /usr/local/lib/python3.10/dist-packages (from torch->torch-geometric-temporal) (3.1.2)\n",
            "Requirement already satisfied: fsspec in /usr/local/lib/python3.10/dist-packages (from torch->torch-geometric-temporal) (2023.6.0)\n",
            "Requirement already satisfied: triton==2.1.0 in /usr/local/lib/python3.10/dist-packages (from torch->torch-geometric-temporal) (2.1.0)\n",
            "Requirement already satisfied: tqdm in /usr/local/lib/python3.10/dist-packages (from torch_geometric->torch-geometric-temporal) (4.66.1)\n",
            "Requirement already satisfied: scipy in /usr/local/lib/python3.10/dist-packages (from torch_geometric->torch-geometric-temporal) (1.11.4)\n",
            "Requirement already satisfied: requests in /usr/local/lib/python3.10/dist-packages (from torch_geometric->torch-geometric-temporal) (2.31.0)\n",
            "Requirement already satisfied: pyparsing in /usr/local/lib/python3.10/dist-packages (from torch_geometric->torch-geometric-temporal) (3.1.1)\n",
            "Requirement already satisfied: scikit-learn in /usr/local/lib/python3.10/dist-packages (from torch_geometric->torch-geometric-temporal) (1.2.2)\n",
            "Requirement already satisfied: psutil>=5.8.0 in /usr/local/lib/python3.10/dist-packages (from torch_geometric->torch-geometric-temporal) (5.9.5)\n",
            "Requirement already satisfied: MarkupSafe>=2.0 in /usr/local/lib/python3.10/dist-packages (from jinja2->torch->torch-geometric-temporal) (2.1.3)\n",
            "Requirement already satisfied: charset-normalizer<4,>=2 in /usr/local/lib/python3.10/dist-packages (from requests->torch_geometric->torch-geometric-temporal) (3.3.2)\n",
            "Requirement already satisfied: idna<4,>=2.5 in /usr/local/lib/python3.10/dist-packages (from requests->torch_geometric->torch-geometric-temporal) (3.6)\n",
            "Requirement already satisfied: urllib3<3,>=1.21.1 in /usr/local/lib/python3.10/dist-packages (from requests->torch_geometric->torch-geometric-temporal) (2.0.7)\n",
            "Requirement already satisfied: certifi>=2017.4.17 in /usr/local/lib/python3.10/dist-packages (from requests->torch_geometric->torch-geometric-temporal) (2023.11.17)\n",
            "Requirement already satisfied: joblib>=1.1.1 in /usr/local/lib/python3.10/dist-packages (from scikit-learn->torch_geometric->torch-geometric-temporal) (1.3.2)\n",
            "Requirement already satisfied: threadpoolctl>=2.0.0 in /usr/local/lib/python3.10/dist-packages (from scikit-learn->torch_geometric->torch-geometric-temporal) (3.2.0)\n",
            "Requirement already satisfied: mpmath>=0.19 in /usr/local/lib/python3.10/dist-packages (from sympy->torch->torch-geometric-temporal) (1.3.0)\n",
            "Building wheels for collected packages: torch-geometric-temporal\n",
            "  Building wheel for torch-geometric-temporal (setup.py) ... \u001b[?25l\u001b[?25hdone\n",
            "  Created wheel for torch-geometric-temporal: filename=torch_geometric_temporal-0.54.0-py3-none-any.whl size=86722 sha256=f36b8d9eb48097bb7a0be4836750bb57bffd03e130145aa79f4f4f2767c9d2ba\n",
            "  Stored in directory: /root/.cache/pip/wheels/9e/9b/b6/e15256e053f0cb49b1084a67a709db909d418386a231f0722c\n",
            "Successfully built torch-geometric-temporal\n",
            "Installing collected packages: pandas, torch-geometric-temporal\n",
            "  Attempting uninstall: pandas\n",
            "    Found existing installation: pandas 1.5.3\n",
            "    Uninstalling pandas-1.5.3:\n",
            "      Successfully uninstalled pandas-1.5.3\n",
            "\u001b[31mERROR: pip's dependency resolver does not currently take into account all the packages that are installed. This behaviour is the source of the following dependency conflicts.\n",
            "lida 0.0.10 requires fastapi, which is not installed.\n",
            "lida 0.0.10 requires kaleido, which is not installed.\n",
            "lida 0.0.10 requires python-multipart, which is not installed.\n",
            "lida 0.0.10 requires uvicorn, which is not installed.\n",
            "bigframes 0.15.0 requires pandas>=1.5.0, but you have pandas 1.3.5 which is incompatible.\n",
            "google-colab 1.0.0 requires pandas==1.5.3, but you have pandas 1.3.5 which is incompatible.\n",
            "plotnine 0.12.4 requires pandas>=1.5.0, but you have pandas 1.3.5 which is incompatible.\n",
            "xarray 2023.7.0 requires pandas>=1.4, but you have pandas 1.3.5 which is incompatible.\u001b[0m\u001b[31m\n",
            "\u001b[0mSuccessfully installed pandas-1.3.5 torch-geometric-temporal-0.54.0\n"
          ]
        }
      ],
      "source": [
        "!pip install -U torch-geometric-temporal"
      ]
    },
    {
      "cell_type": "code",
      "execution_count": 6,
      "metadata": {
        "colab": {
          "base_uri": "https://localhost:8080/"
        },
        "id": "SHipsw6jF91T",
        "outputId": "5860d4b8-15e2-4be5-be36-10b093f72242"
      },
      "outputs": [
        {
          "name": "stdout",
          "output_type": "stream",
          "text": [
            "METRLADatasetLoader Data(x=[207, 2, 12], edge_index=[2, 1722], edge_attr=[1722], y=[207, 12])\n",
            "METRLADatasetLoader Data(x=[207, 2, 12], edge_index=[2, 1722], edge_attr=[1722], y=[207, 12])\n",
            "ChickenpoxDatasetLoader Data(x=[20, 4], edge_index=[2, 102], edge_attr=[102], y=[20])\n",
            "ChickenpoxDatasetLoader Data(x=[20, 4], edge_index=[2, 102], edge_attr=[102], y=[20])\n"
          ]
        }
      ],
      "source": [
        "import ssl\n",
        "\n",
        "ssl._create_default_https_context = ssl._create_unverified_context\n",
        "\n",
        "\n",
        "\n",
        "# # look for other datasets\n",
        "from torch_geometric_temporal.dataset import METRLADatasetLoader\n",
        "loader = METRLADatasetLoader()\n",
        "dataset = loader.get_dataset(num_timesteps_in=12, num_timesteps_out=12)\n",
        "iterator = iter(dataset)\n",
        "print(\"METRLADatasetLoader\", next(iterator))\n",
        "print(\"METRLADatasetLoader\", next(iterator))\n",
        "\n",
        "\n",
        "from torch_geometric_temporal.dataset import ChickenpoxDatasetLoader\n",
        "dataset = ChickenpoxDatasetLoader().get_dataset()\n",
        "iterator = iter(dataset)\n",
        "print(\"ChickenpoxDatasetLoader\", next(iterator))\n",
        "print(\"ChickenpoxDatasetLoader\", next(iterator))\n",
        "\n",
        "# from torch_geometric_temporal.dataset import PedalMeDatasetLoader\n",
        "# dataset = PedalMeDatasetLoader().get_dataset()\n",
        "# print(\"PedalMeDatasetLoader\", next(iter(dataset)))\n",
        "\n",
        "\n",
        "# from torch_geometric_temporal.dataset import WikiMathsDatasetLoader\n",
        "# dataset = WikiMathsDatasetLoader().get_dataset(lags=14)\n",
        "# iterator = iter(dataset)\n",
        "# print(\"WikiMathsDatasetLoader\", next(iterator))\n",
        "# print(\"WikiMathsDatasetLoader\", next(iterator))\n",
        "\n",
        "# from torch_geometric_temporal.dataset import WindmillOutputSmallDatasetLoader\n",
        "# dataset = WindmillOutputSmallDatasetLoader().get_dataset()\n",
        "# print(\"WindmillOutputSmallDatasetLoader\", next(iter(dataset)))\n",
        "\n",
        "# from torch_geometric_temporal.dataset import EnglandCovidDatasetLoader\n",
        "# dataset = EnglandCovidDatasetLoader().get_dataset()\n",
        "# print(\"EnglandCovidDatasetLoader\", next(iter(dataset)))\n",
        "\n",
        "\n",
        "# from torch_geometric_temporal.dataset import MontevideoBusDatasetLoader\n",
        "# dataset = MontevideoBusDatasetLoader().get_dataset()\n",
        "# print(\"MontevideoBusDatasetLoader\", next(iter(dataset)))\n",
        "\n",
        "\n",
        "# from torch_geometric_temporal.dataset import TwitterTennisDatasetLoader\n",
        "# dataset = TwitterTennisDatasetLoader().get_dataset()\n",
        "# print(\"TwitterTennisDatasetLoader\", next(iter(dataset)))"
      ]
    },
    {
      "cell_type": "code",
      "execution_count": 7,
      "metadata": {
        "colab": {
          "base_uri": "https://localhost:8080/"
        },
        "id": "rW_Gc1oQ8rNC",
        "outputId": "86481458-2705-4623-e6ef-b2d4defb9b9f"
      },
      "outputs": [
        {
          "name": "stdout",
          "output_type": "stream",
          "text": [
            "Graph Wavenet Extension for Performance Improvements: True\n",
            "start training...\n"
          ]
        },
        {
          "name": "stderr",
          "output_type": "stream",
          "text": [
            "\r  0%|          | 0/50 [00:00<?, ?it/s]"
          ]
        },
        {
          "name": "stdout",
          "output_type": "stream",
          "text": [
            "Iter: 00000, Train Loss: 0.8825, Train MAPE: 0.8022, Train RMSE: 1.1776\n",
            "Iter: 00100, Train Loss: 1.1203, Train MAPE: -2.0489, Train RMSE: 1.5133\n",
            "Iter: 00200, Train Loss: 0.7151, Train MAPE: -0.2300, Train RMSE: 1.0429\n",
            "Iter: 00300, Train Loss: 0.5549, Train MAPE: -1.3375, Train RMSE: 0.7406\n"
          ]
        },
        {
          "name": "stderr",
          "output_type": "stream",
          "text": [
            "\r  2%|▏         | 1/50 [00:26<22:02, 27.00s/it]"
          ]
        },
        {
          "name": "stdout",
          "output_type": "stream",
          "text": [
            "Iter: 00000, Train Loss: 0.7931, Train MAPE: 0.7261, Train RMSE: 1.0766\n",
            "Iter: 00100, Train Loss: 1.1162, Train MAPE: -0.6733, Train RMSE: 1.5156\n",
            "Iter: 00200, Train Loss: 0.7034, Train MAPE: -0.2509, Train RMSE: 1.0334\n",
            "Iter: 00300, Train Loss: 0.5547, Train MAPE: 0.6349, Train RMSE: 0.7484\n"
          ]
        },
        {
          "name": "stderr",
          "output_type": "stream",
          "text": [
            "\r  4%|▍         | 2/50 [00:43<16:35, 20.74s/it]"
          ]
        },
        {
          "name": "stdout",
          "output_type": "stream",
          "text": [
            "Iter: 00000, Train Loss: 0.8003, Train MAPE: 1.4368, Train RMSE: 1.0766\n",
            "Iter: 00100, Train Loss: 1.1221, Train MAPE: -1.9342, Train RMSE: 1.5142\n",
            "Iter: 00200, Train Loss: 0.7062, Train MAPE: -0.2368, Train RMSE: 1.0437\n",
            "Iter: 00300, Train Loss: 0.5540, Train MAPE: -0.8807, Train RMSE: 0.7441\n"
          ]
        },
        {
          "name": "stderr",
          "output_type": "stream",
          "text": [
            "\r  6%|▌         | 3/50 [00:59<14:43, 18.79s/it]"
          ]
        },
        {
          "name": "stdout",
          "output_type": "stream",
          "text": [
            "Iter: 00000, Train Loss: 0.7985, Train MAPE: 1.1721, Train RMSE: 1.0819\n",
            "Iter: 00100, Train Loss: 1.1088, Train MAPE: -3.3519, Train RMSE: 1.4994\n",
            "Iter: 00200, Train Loss: 0.6965, Train MAPE: -0.2165, Train RMSE: 1.0327\n",
            "Iter: 00300, Train Loss: 0.5533, Train MAPE: 0.8537, Train RMSE: 0.7417\n"
          ]
        },
        {
          "name": "stderr",
          "output_type": "stream",
          "text": [
            "\r  8%|▊         | 4/50 [01:17<14:04, 18.35s/it]"
          ]
        },
        {
          "name": "stdout",
          "output_type": "stream",
          "text": [
            "Iter: 00000, Train Loss: 0.7924, Train MAPE: 1.0162, Train RMSE: 1.0755\n",
            "Iter: 00100, Train Loss: 1.1229, Train MAPE: -2.9708, Train RMSE: 1.5176\n",
            "Iter: 00200, Train Loss: 0.7219, Train MAPE: -0.2132, Train RMSE: 1.0543\n",
            "Iter: 00300, Train Loss: 0.5462, Train MAPE: 0.6476, Train RMSE: 0.7378\n"
          ]
        },
        {
          "name": "stderr",
          "output_type": "stream",
          "text": [
            "\r 10%|█         | 5/50 [01:33<13:13, 17.63s/it]"
          ]
        },
        {
          "name": "stdout",
          "output_type": "stream",
          "text": [
            "Iter: 00000, Train Loss: 0.7990, Train MAPE: 1.0088, Train RMSE: 1.0799\n",
            "Iter: 00100, Train Loss: 1.1146, Train MAPE: -1.5857, Train RMSE: 1.5120\n",
            "Iter: 00200, Train Loss: 0.7088, Train MAPE: -0.3013, Train RMSE: 1.0508\n",
            "Iter: 00300, Train Loss: 0.5536, Train MAPE: 0.3275, Train RMSE: 0.7462\n"
          ]
        },
        {
          "name": "stderr",
          "output_type": "stream",
          "text": [
            "\r 12%|█▏        | 6/50 [01:50<12:35, 17.17s/it]"
          ]
        },
        {
          "name": "stdout",
          "output_type": "stream",
          "text": [
            "Iter: 00000, Train Loss: 0.8009, Train MAPE: 1.1250, Train RMSE: 1.0852\n",
            "Iter: 00100, Train Loss: 1.1214, Train MAPE: -2.7443, Train RMSE: 1.5143\n",
            "Iter: 00200, Train Loss: 0.7093, Train MAPE: -0.2401, Train RMSE: 1.0475\n",
            "Iter: 00300, Train Loss: 0.5500, Train MAPE: 2.0207, Train RMSE: 0.7399\n"
          ]
        },
        {
          "name": "stderr",
          "output_type": "stream",
          "text": [
            "\r 14%|█▍        | 7/50 [02:07<12:17, 17.14s/it]"
          ]
        },
        {
          "name": "stdout",
          "output_type": "stream",
          "text": [
            "Iter: 00000, Train Loss: 0.8012, Train MAPE: 1.4103, Train RMSE: 1.0834\n",
            "Iter: 00100, Train Loss: 1.1213, Train MAPE: -2.6053, Train RMSE: 1.5126\n",
            "Iter: 00200, Train Loss: 0.6992, Train MAPE: -0.2389, Train RMSE: 1.0370\n",
            "Iter: 00300, Train Loss: 0.5558, Train MAPE: 0.0656, Train RMSE: 0.7444\n"
          ]
        },
        {
          "name": "stderr",
          "output_type": "stream",
          "text": [
            "\r 16%|█▌        | 8/50 [02:24<11:55, 17.03s/it]"
          ]
        },
        {
          "name": "stdout",
          "output_type": "stream",
          "text": [
            "Iter: 00000, Train Loss: 0.7911, Train MAPE: 0.7207, Train RMSE: 1.0755\n",
            "Iter: 00100, Train Loss: 1.1234, Train MAPE: -2.5213, Train RMSE: 1.5182\n",
            "Iter: 00200, Train Loss: 0.7055, Train MAPE: -0.2251, Train RMSE: 1.0441\n",
            "Iter: 00300, Train Loss: 0.5508, Train MAPE: 0.1771, Train RMSE: 0.7388\n"
          ]
        },
        {
          "name": "stderr",
          "output_type": "stream",
          "text": [
            "\r 18%|█▊        | 9/50 [02:40<11:30, 16.83s/it]"
          ]
        },
        {
          "name": "stdout",
          "output_type": "stream",
          "text": [
            "Iter: 00000, Train Loss: 0.8039, Train MAPE: 0.9190, Train RMSE: 1.0877\n",
            "Iter: 00100, Train Loss: 1.1122, Train MAPE: 0.0517, Train RMSE: 1.5065\n",
            "Iter: 00200, Train Loss: 0.6997, Train MAPE: -0.1690, Train RMSE: 1.0390\n",
            "Iter: 00300, Train Loss: 0.5562, Train MAPE: 0.9273, Train RMSE: 0.7531\n"
          ]
        },
        {
          "name": "stderr",
          "output_type": "stream",
          "text": [
            "\r 20%|██        | 10/50 [02:57<11:19, 16.99s/it]"
          ]
        },
        {
          "name": "stdout",
          "output_type": "stream",
          "text": [
            "Iter: 00000, Train Loss: 0.7891, Train MAPE: 0.8099, Train RMSE: 1.0742\n",
            "Iter: 00100, Train Loss: 1.1108, Train MAPE: -2.1017, Train RMSE: 1.5039\n",
            "Iter: 00200, Train Loss: 0.7095, Train MAPE: -0.2354, Train RMSE: 1.0514\n",
            "Iter: 00300, Train Loss: 0.5565, Train MAPE: 1.1851, Train RMSE: 0.7387\n"
          ]
        },
        {
          "name": "stderr",
          "output_type": "stream",
          "text": [
            "\r 22%|██▏       | 11/50 [03:14<10:54, 16.78s/it]"
          ]
        },
        {
          "name": "stdout",
          "output_type": "stream",
          "text": [
            "Iter: 00000, Train Loss: 0.7993, Train MAPE: 1.0486, Train RMSE: 1.0857\n",
            "Iter: 00100, Train Loss: 1.1201, Train MAPE: -1.8933, Train RMSE: 1.5141\n",
            "Iter: 00200, Train Loss: 0.7093, Train MAPE: -0.1671, Train RMSE: 1.0543\n",
            "Iter: 00300, Train Loss: 0.5448, Train MAPE: -0.0847, Train RMSE: 0.7415\n"
          ]
        },
        {
          "name": "stderr",
          "output_type": "stream",
          "text": [
            "\r 24%|██▍       | 12/50 [03:30<10:34, 16.70s/it]"
          ]
        },
        {
          "name": "stdout",
          "output_type": "stream",
          "text": [
            "Iter: 00000, Train Loss: 0.8022, Train MAPE: 1.1481, Train RMSE: 1.0816\n",
            "Iter: 00100, Train Loss: 1.1152, Train MAPE: -1.7179, Train RMSE: 1.5079\n",
            "Iter: 00200, Train Loss: 0.7039, Train MAPE: -0.2502, Train RMSE: 1.0322\n",
            "Iter: 00300, Train Loss: 0.5624, Train MAPE: 0.2726, Train RMSE: 0.7536\n"
          ]
        },
        {
          "name": "stderr",
          "output_type": "stream",
          "text": [
            "\r 26%|██▌       | 13/50 [03:48<10:26, 16.94s/it]"
          ]
        },
        {
          "name": "stdout",
          "output_type": "stream",
          "text": [
            "Iter: 00000, Train Loss: 0.7953, Train MAPE: 0.7285, Train RMSE: 1.0867\n",
            "Iter: 00100, Train Loss: 1.1245, Train MAPE: -3.1518, Train RMSE: 1.5150\n",
            "Iter: 00200, Train Loss: 0.7058, Train MAPE: -0.3440, Train RMSE: 1.0405\n",
            "Iter: 00300, Train Loss: 0.5611, Train MAPE: -0.6397, Train RMSE: 0.7511\n"
          ]
        },
        {
          "name": "stderr",
          "output_type": "stream",
          "text": [
            "\r 28%|██▊       | 14/50 [04:04<10:02, 16.74s/it]"
          ]
        },
        {
          "name": "stdout",
          "output_type": "stream",
          "text": [
            "Iter: 00000, Train Loss: 0.7914, Train MAPE: 0.5922, Train RMSE: 1.0777\n",
            "Iter: 00100, Train Loss: 1.1153, Train MAPE: -0.7635, Train RMSE: 1.5129\n",
            "Iter: 00200, Train Loss: 0.7046, Train MAPE: -0.2718, Train RMSE: 1.0403\n",
            "Iter: 00300, Train Loss: 0.5603, Train MAPE: -1.5261, Train RMSE: 0.7567\n"
          ]
        },
        {
          "name": "stderr",
          "output_type": "stream",
          "text": [
            "\r 30%|███       | 15/50 [04:20<09:41, 16.62s/it]"
          ]
        },
        {
          "name": "stdout",
          "output_type": "stream",
          "text": [
            "Iter: 00000, Train Loss: 0.7948, Train MAPE: 0.8180, Train RMSE: 1.0827\n",
            "Iter: 00100, Train Loss: 1.1150, Train MAPE: -2.8865, Train RMSE: 1.5074\n",
            "Iter: 00200, Train Loss: 0.7103, Train MAPE: -0.2774, Train RMSE: 1.0419\n",
            "Iter: 00300, Train Loss: 0.5652, Train MAPE: -0.0693, Train RMSE: 0.7549\n"
          ]
        },
        {
          "name": "stderr",
          "output_type": "stream",
          "text": [
            "\r 32%|███▏      | 16/50 [04:37<09:31, 16.80s/it]"
          ]
        },
        {
          "name": "stdout",
          "output_type": "stream",
          "text": [
            "Iter: 00000, Train Loss: 0.7982, Train MAPE: 1.1229, Train RMSE: 1.0850\n",
            "Iter: 00100, Train Loss: 1.1135, Train MAPE: -3.4283, Train RMSE: 1.5104\n",
            "Iter: 00200, Train Loss: 0.7003, Train MAPE: -0.3074, Train RMSE: 1.0327\n",
            "Iter: 00300, Train Loss: 0.5600, Train MAPE: -1.1381, Train RMSE: 0.7476\n"
          ]
        },
        {
          "name": "stderr",
          "output_type": "stream",
          "text": [
            "\r 34%|███▍      | 17/50 [04:54<09:11, 16.72s/it]"
          ]
        },
        {
          "name": "stdout",
          "output_type": "stream",
          "text": [
            "Iter: 00000, Train Loss: 0.8006, Train MAPE: 1.0333, Train RMSE: 1.0842\n",
            "Iter: 00100, Train Loss: 1.1153, Train MAPE: -2.5956, Train RMSE: 1.5072\n",
            "Iter: 00200, Train Loss: 0.7053, Train MAPE: -0.2690, Train RMSE: 1.0400\n",
            "Iter: 00300, Train Loss: 0.5678, Train MAPE: -0.4073, Train RMSE: 0.7595\n"
          ]
        },
        {
          "name": "stderr",
          "output_type": "stream",
          "text": [
            "\r 36%|███▌      | 18/50 [05:10<08:52, 16.65s/it]"
          ]
        },
        {
          "name": "stdout",
          "output_type": "stream",
          "text": [
            "Iter: 00000, Train Loss: 0.7930, Train MAPE: 0.7216, Train RMSE: 1.0804\n",
            "Iter: 00100, Train Loss: 1.1156, Train MAPE: -2.5989, Train RMSE: 1.5026\n",
            "Iter: 00200, Train Loss: 0.7103, Train MAPE: -0.2765, Train RMSE: 1.0533\n",
            "Iter: 00300, Train Loss: 0.5542, Train MAPE: -1.4143, Train RMSE: 0.7463\n"
          ]
        },
        {
          "name": "stderr",
          "output_type": "stream",
          "text": [
            "\r 38%|███▊      | 19/50 [05:28<08:42, 16.84s/it]"
          ]
        },
        {
          "name": "stdout",
          "output_type": "stream",
          "text": [
            "Iter: 00000, Train Loss: 0.7931, Train MAPE: 1.0704, Train RMSE: 1.0771\n",
            "Iter: 00100, Train Loss: 1.1123, Train MAPE: -2.1521, Train RMSE: 1.5062\n",
            "Iter: 00200, Train Loss: 0.7143, Train MAPE: -0.2634, Train RMSE: 1.0499\n",
            "Iter: 00300, Train Loss: 0.5470, Train MAPE: -1.5376, Train RMSE: 0.7353\n"
          ]
        },
        {
          "name": "stderr",
          "output_type": "stream",
          "text": [
            "\r 40%|████      | 20/50 [05:45<08:25, 16.85s/it]"
          ]
        },
        {
          "name": "stdout",
          "output_type": "stream",
          "text": [
            "Iter: 00000, Train Loss: 0.8008, Train MAPE: 1.0887, Train RMSE: 1.0831\n",
            "Iter: 00100, Train Loss: 1.1199, Train MAPE: -2.2704, Train RMSE: 1.5104\n",
            "Iter: 00200, Train Loss: 0.7067, Train MAPE: -0.2048, Train RMSE: 1.0434\n",
            "Iter: 00300, Train Loss: 0.5565, Train MAPE: 3.0021, Train RMSE: 0.7525\n"
          ]
        },
        {
          "name": "stderr",
          "output_type": "stream",
          "text": [
            "\r 42%|████▏     | 21/50 [06:01<08:08, 16.85s/it]"
          ]
        },
        {
          "name": "stdout",
          "output_type": "stream",
          "text": [
            "Iter: 00000, Train Loss: 0.7967, Train MAPE: 1.1547, Train RMSE: 1.0871\n",
            "Iter: 00100, Train Loss: 1.1162, Train MAPE: -2.8416, Train RMSE: 1.5054\n",
            "Iter: 00200, Train Loss: 0.7089, Train MAPE: -0.3328, Train RMSE: 1.0459\n",
            "Iter: 00300, Train Loss: 0.5579, Train MAPE: -0.0022, Train RMSE: 0.7396\n"
          ]
        },
        {
          "name": "stderr",
          "output_type": "stream",
          "text": [
            "\r 44%|████▍     | 22/50 [06:19<07:56, 17.02s/it]"
          ]
        },
        {
          "name": "stdout",
          "output_type": "stream",
          "text": [
            "Iter: 00000, Train Loss: 0.7905, Train MAPE: 0.5213, Train RMSE: 1.0776\n",
            "Iter: 00100, Train Loss: 1.1215, Train MAPE: -2.3635, Train RMSE: 1.5027\n",
            "Iter: 00200, Train Loss: 0.7075, Train MAPE: -0.2789, Train RMSE: 1.0375\n",
            "Iter: 00300, Train Loss: 0.5572, Train MAPE: -0.1005, Train RMSE: 0.7599\n"
          ]
        },
        {
          "name": "stderr",
          "output_type": "stream",
          "text": [
            "\r 46%|████▌     | 23/50 [06:36<07:40, 17.04s/it]"
          ]
        },
        {
          "name": "stdout",
          "output_type": "stream",
          "text": [
            "Iter: 00000, Train Loss: 0.8004, Train MAPE: 1.0147, Train RMSE: 1.0834\n",
            "Iter: 00100, Train Loss: 1.1160, Train MAPE: -1.8111, Train RMSE: 1.5100\n",
            "Iter: 00200, Train Loss: 0.7159, Train MAPE: -0.3092, Train RMSE: 1.0573\n",
            "Iter: 00300, Train Loss: 0.5556, Train MAPE: 0.7634, Train RMSE: 0.7423\n"
          ]
        },
        {
          "name": "stderr",
          "output_type": "stream",
          "text": [
            "\r 48%|████▊     | 24/50 [06:52<07:18, 16.86s/it]"
          ]
        },
        {
          "name": "stdout",
          "output_type": "stream",
          "text": [
            "Iter: 00000, Train Loss: 0.7959, Train MAPE: 0.4884, Train RMSE: 1.0814\n",
            "Iter: 00100, Train Loss: 1.1232, Train MAPE: -1.1669, Train RMSE: 1.5195\n",
            "Iter: 00200, Train Loss: 0.7037, Train MAPE: -0.2132, Train RMSE: 1.0442\n",
            "Iter: 00300, Train Loss: 0.5517, Train MAPE: -1.5544, Train RMSE: 0.7436\n"
          ]
        },
        {
          "name": "stderr",
          "output_type": "stream",
          "text": [
            "\r 50%|█████     | 25/50 [07:10<07:05, 17.01s/it]"
          ]
        },
        {
          "name": "stdout",
          "output_type": "stream",
          "text": [
            "Iter: 00000, Train Loss: 0.7916, Train MAPE: 0.9023, Train RMSE: 1.0808\n",
            "Iter: 00100, Train Loss: 1.1116, Train MAPE: -1.4905, Train RMSE: 1.5061\n",
            "Iter: 00200, Train Loss: 0.7120, Train MAPE: -0.2393, Train RMSE: 1.0476\n",
            "Iter: 00300, Train Loss: 0.5520, Train MAPE: -0.9394, Train RMSE: 0.7396\n"
          ]
        },
        {
          "name": "stderr",
          "output_type": "stream",
          "text": [
            "\r 52%|█████▏    | 26/50 [07:26<06:43, 16.82s/it]"
          ]
        },
        {
          "name": "stdout",
          "output_type": "stream",
          "text": [
            "Iter: 00000, Train Loss: 0.7965, Train MAPE: 1.0333, Train RMSE: 1.0808\n",
            "Iter: 00100, Train Loss: 1.1081, Train MAPE: -2.9941, Train RMSE: 1.4968\n",
            "Iter: 00200, Train Loss: 0.7108, Train MAPE: -0.3178, Train RMSE: 1.0357\n",
            "Iter: 00300, Train Loss: 0.5592, Train MAPE: 1.8595, Train RMSE: 0.7501\n"
          ]
        },
        {
          "name": "stderr",
          "output_type": "stream",
          "text": [
            "\r 54%|█████▍    | 27/50 [07:43<06:25, 16.74s/it]"
          ]
        },
        {
          "name": "stdout",
          "output_type": "stream",
          "text": [
            "Iter: 00000, Train Loss: 0.7961, Train MAPE: 0.8367, Train RMSE: 1.0773\n",
            "Iter: 00100, Train Loss: 1.1209, Train MAPE: -2.7477, Train RMSE: 1.5117\n",
            "Iter: 00200, Train Loss: 0.7057, Train MAPE: -0.2552, Train RMSE: 1.0421\n",
            "Iter: 00300, Train Loss: 0.5485, Train MAPE: -1.5205, Train RMSE: 0.7403\n"
          ]
        },
        {
          "name": "stderr",
          "output_type": "stream",
          "text": [
            "\r 56%|█████▌    | 28/50 [08:00<06:09, 16.82s/it]"
          ]
        },
        {
          "name": "stdout",
          "output_type": "stream",
          "text": [
            "Iter: 00000, Train Loss: 0.8009, Train MAPE: 1.2404, Train RMSE: 1.0842\n",
            "Iter: 00100, Train Loss: 1.1288, Train MAPE: -3.0359, Train RMSE: 1.5259\n",
            "Iter: 00200, Train Loss: 0.6992, Train MAPE: -0.2592, Train RMSE: 1.0278\n",
            "Iter: 00300, Train Loss: 0.5511, Train MAPE: -1.6936, Train RMSE: 0.7384\n"
          ]
        },
        {
          "name": "stderr",
          "output_type": "stream",
          "text": [
            "\r 58%|█████▊    | 29/50 [08:16<05:50, 16.68s/it]"
          ]
        },
        {
          "name": "stdout",
          "output_type": "stream",
          "text": [
            "Iter: 00000, Train Loss: 0.7963, Train MAPE: 0.4628, Train RMSE: 1.0831\n",
            "Iter: 00100, Train Loss: 1.1214, Train MAPE: -2.5981, Train RMSE: 1.5139\n",
            "Iter: 00200, Train Loss: 0.7052, Train MAPE: -0.3019, Train RMSE: 1.0364\n",
            "Iter: 00300, Train Loss: 0.5571, Train MAPE: 0.6793, Train RMSE: 0.7494\n"
          ]
        },
        {
          "name": "stderr",
          "output_type": "stream",
          "text": [
            "\r 60%|██████    | 30/50 [08:32<05:32, 16.61s/it]"
          ]
        },
        {
          "name": "stdout",
          "output_type": "stream",
          "text": [
            "Iter: 00000, Train Loss: 0.7993, Train MAPE: 1.1421, Train RMSE: 1.0848\n",
            "Iter: 00100, Train Loss: 1.1320, Train MAPE: -2.5985, Train RMSE: 1.5247\n",
            "Iter: 00200, Train Loss: 0.7093, Train MAPE: -0.3111, Train RMSE: 1.0398\n",
            "Iter: 00300, Train Loss: 0.5540, Train MAPE: 1.3885, Train RMSE: 0.7417\n"
          ]
        },
        {
          "name": "stderr",
          "output_type": "stream",
          "text": [
            "\r 62%|██████▏   | 31/50 [08:50<05:19, 16.83s/it]"
          ]
        },
        {
          "name": "stdout",
          "output_type": "stream",
          "text": [
            "Iter: 00000, Train Loss: 0.7942, Train MAPE: 0.4231, Train RMSE: 1.0775\n",
            "Iter: 00100, Train Loss: 1.1116, Train MAPE: 0.3632, Train RMSE: 1.5133\n",
            "Iter: 00200, Train Loss: 0.7132, Train MAPE: -0.3136, Train RMSE: 1.0392\n",
            "Iter: 00300, Train Loss: 0.5517, Train MAPE: 0.8346, Train RMSE: 0.7467\n"
          ]
        },
        {
          "name": "stderr",
          "output_type": "stream",
          "text": [
            "\r 64%|██████▍   | 32/50 [09:06<05:00, 16.71s/it]"
          ]
        },
        {
          "name": "stdout",
          "output_type": "stream",
          "text": [
            "Iter: 00000, Train Loss: 0.8021, Train MAPE: 0.8215, Train RMSE: 1.0951\n",
            "Iter: 00100, Train Loss: 1.1138, Train MAPE: -2.8242, Train RMSE: 1.5108\n",
            "Iter: 00200, Train Loss: 0.7074, Train MAPE: -0.2184, Train RMSE: 1.0480\n",
            "Iter: 00300, Train Loss: 0.5427, Train MAPE: 0.1606, Train RMSE: 0.7371\n"
          ]
        },
        {
          "name": "stderr",
          "output_type": "stream",
          "text": [
            "\r 66%|██████▌   | 33/50 [09:24<04:50, 17.06s/it]"
          ]
        },
        {
          "name": "stdout",
          "output_type": "stream",
          "text": [
            "Iter: 00000, Train Loss: 0.7919, Train MAPE: 0.1327, Train RMSE: 1.0810\n",
            "Iter: 00100, Train Loss: 1.1150, Train MAPE: -1.6612, Train RMSE: 1.5049\n",
            "Iter: 00200, Train Loss: 0.7115, Train MAPE: -0.3485, Train RMSE: 1.0418\n",
            "Iter: 00300, Train Loss: 0.5561, Train MAPE: 0.0064, Train RMSE: 0.7485\n"
          ]
        },
        {
          "name": "stderr",
          "output_type": "stream",
          "text": [
            "\r 68%|██████▊   | 34/50 [09:41<04:30, 16.89s/it]"
          ]
        },
        {
          "name": "stdout",
          "output_type": "stream",
          "text": [
            "Iter: 00000, Train Loss: 0.7989, Train MAPE: 0.7770, Train RMSE: 1.0797\n",
            "Iter: 00100, Train Loss: 1.1123, Train MAPE: -2.7843, Train RMSE: 1.5079\n",
            "Iter: 00200, Train Loss: 0.6985, Train MAPE: -0.2343, Train RMSE: 1.0320\n",
            "Iter: 00300, Train Loss: 0.5524, Train MAPE: -1.7566, Train RMSE: 0.7462\n"
          ]
        },
        {
          "name": "stderr",
          "output_type": "stream",
          "text": [
            "\r 70%|███████   | 35/50 [09:57<04:12, 16.84s/it]"
          ]
        },
        {
          "name": "stdout",
          "output_type": "stream",
          "text": [
            "Iter: 00000, Train Loss: 0.8006, Train MAPE: 0.5014, Train RMSE: 1.0810\n",
            "Iter: 00100, Train Loss: 1.1184, Train MAPE: -3.4593, Train RMSE: 1.5077\n",
            "Iter: 00200, Train Loss: 0.7136, Train MAPE: -0.2482, Train RMSE: 1.0455\n",
            "Iter: 00300, Train Loss: 0.5661, Train MAPE: 0.1027, Train RMSE: 0.7510\n"
          ]
        },
        {
          "name": "stderr",
          "output_type": "stream",
          "text": [
            "\r 72%|███████▏  | 36/50 [10:14<03:53, 16.70s/it]"
          ]
        },
        {
          "name": "stdout",
          "output_type": "stream",
          "text": [
            "Iter: 00000, Train Loss: 0.7975, Train MAPE: 0.9651, Train RMSE: 1.0757\n",
            "Iter: 00100, Train Loss: 1.1136, Train MAPE: -2.7576, Train RMSE: 1.5008\n",
            "Iter: 00200, Train Loss: 0.7044, Train MAPE: -0.2293, Train RMSE: 1.0373\n",
            "Iter: 00300, Train Loss: 0.5624, Train MAPE: -1.0277, Train RMSE: 0.7551\n"
          ]
        },
        {
          "name": "stderr",
          "output_type": "stream",
          "text": [
            "\r 74%|███████▍  | 37/50 [10:30<03:36, 16.67s/it]"
          ]
        },
        {
          "name": "stdout",
          "output_type": "stream",
          "text": [
            "Iter: 00000, Train Loss: 0.8040, Train MAPE: 1.3283, Train RMSE: 1.0897\n",
            "Iter: 00100, Train Loss: 1.1206, Train MAPE: -2.5647, Train RMSE: 1.5108\n",
            "Iter: 00200, Train Loss: 0.7088, Train MAPE: -0.2193, Train RMSE: 1.0489\n",
            "Iter: 00300, Train Loss: 0.5530, Train MAPE: 1.5893, Train RMSE: 0.7439\n"
          ]
        },
        {
          "name": "stderr",
          "output_type": "stream",
          "text": [
            "\r 76%|███████▌  | 38/50 [10:47<03:21, 16.79s/it]"
          ]
        },
        {
          "name": "stdout",
          "output_type": "stream",
          "text": [
            "Iter: 00000, Train Loss: 0.8009, Train MAPE: 1.3515, Train RMSE: 1.0798\n",
            "Iter: 00100, Train Loss: 1.1195, Train MAPE: -3.0521, Train RMSE: 1.5092\n",
            "Iter: 00200, Train Loss: 0.7014, Train MAPE: -0.2654, Train RMSE: 1.0348\n",
            "Iter: 00300, Train Loss: 0.5533, Train MAPE: 1.9161, Train RMSE: 0.7453\n"
          ]
        },
        {
          "name": "stderr",
          "output_type": "stream",
          "text": [
            "\r 78%|███████▊  | 39/50 [11:04<03:02, 16.63s/it]"
          ]
        },
        {
          "name": "stdout",
          "output_type": "stream",
          "text": [
            "Iter: 00000, Train Loss: 0.8003, Train MAPE: 1.1739, Train RMSE: 1.0850\n",
            "Iter: 00100, Train Loss: 1.1154, Train MAPE: -3.8327, Train RMSE: 1.5047\n",
            "Iter: 00200, Train Loss: 0.7109, Train MAPE: -0.2818, Train RMSE: 1.0471\n",
            "Iter: 00300, Train Loss: 0.5414, Train MAPE: -0.9443, Train RMSE: 0.7293\n"
          ]
        },
        {
          "name": "stderr",
          "output_type": "stream",
          "text": [
            "\r 80%|████████  | 40/50 [11:20<02:45, 16.57s/it]"
          ]
        },
        {
          "name": "stdout",
          "output_type": "stream",
          "text": [
            "Iter: 00000, Train Loss: 0.8002, Train MAPE: 1.4322, Train RMSE: 1.0817\n",
            "Iter: 00100, Train Loss: 1.1094, Train MAPE: -2.4653, Train RMSE: 1.5090\n",
            "Iter: 00200, Train Loss: 0.7079, Train MAPE: -0.2515, Train RMSE: 1.0417\n",
            "Iter: 00300, Train Loss: 0.5510, Train MAPE: 0.2759, Train RMSE: 0.7345\n"
          ]
        },
        {
          "name": "stderr",
          "output_type": "stream",
          "text": [
            "\r 82%|████████▏ | 41/50 [11:38<02:31, 16.84s/it]"
          ]
        },
        {
          "name": "stdout",
          "output_type": "stream",
          "text": [
            "Iter: 00000, Train Loss: 0.7920, Train MAPE: 1.0105, Train RMSE: 1.0775\n",
            "Iter: 00100, Train Loss: 1.1130, Train MAPE: -3.8737, Train RMSE: 1.5077\n",
            "Iter: 00200, Train Loss: 0.6989, Train MAPE: -0.2965, Train RMSE: 1.0368\n",
            "Iter: 00300, Train Loss: 0.5631, Train MAPE: -0.5285, Train RMSE: 0.7481\n"
          ]
        },
        {
          "name": "stderr",
          "output_type": "stream",
          "text": [
            "\r 84%|████████▍ | 42/50 [11:54<02:14, 16.84s/it]"
          ]
        },
        {
          "name": "stdout",
          "output_type": "stream",
          "text": [
            "Iter: 00000, Train Loss: 0.8016, Train MAPE: 1.2378, Train RMSE: 1.0803\n",
            "Iter: 00100, Train Loss: 1.1289, Train MAPE: -3.6615, Train RMSE: 1.5155\n",
            "Iter: 00200, Train Loss: 0.6996, Train MAPE: -0.1890, Train RMSE: 1.0463\n",
            "Iter: 00300, Train Loss: 0.5436, Train MAPE: 1.9031, Train RMSE: 0.7411\n"
          ]
        },
        {
          "name": "stderr",
          "output_type": "stream",
          "text": [
            "\r 86%|████████▌ | 43/50 [12:11<01:58, 16.92s/it]"
          ]
        },
        {
          "name": "stdout",
          "output_type": "stream",
          "text": [
            "Iter: 00000, Train Loss: 0.7915, Train MAPE: 0.9896, Train RMSE: 1.0752\n",
            "Iter: 00100, Train Loss: 1.1174, Train MAPE: -1.7389, Train RMSE: 1.5043\n",
            "Iter: 00200, Train Loss: 0.7079, Train MAPE: -0.2388, Train RMSE: 1.0392\n",
            "Iter: 00300, Train Loss: 0.5509, Train MAPE: 1.6001, Train RMSE: 0.7381\n"
          ]
        },
        {
          "name": "stderr",
          "output_type": "stream",
          "text": [
            "\r 88%|████████▊ | 44/50 [12:29<01:41, 16.99s/it]"
          ]
        },
        {
          "name": "stdout",
          "output_type": "stream",
          "text": [
            "Iter: 00000, Train Loss: 0.8061, Train MAPE: 1.2807, Train RMSE: 1.0897\n",
            "Iter: 00100, Train Loss: 1.1205, Train MAPE: -3.0749, Train RMSE: 1.5180\n",
            "Iter: 00200, Train Loss: 0.7034, Train MAPE: -0.3311, Train RMSE: 1.0275\n",
            "Iter: 00300, Train Loss: 0.5593, Train MAPE: -0.3141, Train RMSE: 0.7484\n"
          ]
        },
        {
          "name": "stderr",
          "output_type": "stream",
          "text": [
            "\r 90%|█████████ | 45/50 [12:45<01:24, 16.81s/it]"
          ]
        },
        {
          "name": "stdout",
          "output_type": "stream",
          "text": [
            "Iter: 00000, Train Loss: 0.7950, Train MAPE: 1.3156, Train RMSE: 1.0774\n",
            "Iter: 00100, Train Loss: 1.1094, Train MAPE: -1.6143, Train RMSE: 1.5068\n",
            "Iter: 00200, Train Loss: 0.7110, Train MAPE: -0.2531, Train RMSE: 1.0423\n",
            "Iter: 00300, Train Loss: 0.5624, Train MAPE: -1.1802, Train RMSE: 0.7577\n"
          ]
        },
        {
          "name": "stderr",
          "output_type": "stream",
          "text": [
            "\r 92%|█████████▏| 46/50 [13:01<01:06, 16.71s/it]"
          ]
        },
        {
          "name": "stdout",
          "output_type": "stream",
          "text": [
            "Iter: 00000, Train Loss: 0.8008, Train MAPE: 0.7527, Train RMSE: 1.0840\n",
            "Iter: 00100, Train Loss: 1.1218, Train MAPE: -1.2816, Train RMSE: 1.5115\n",
            "Iter: 00200, Train Loss: 0.7152, Train MAPE: -0.3855, Train RMSE: 1.0424\n",
            "Iter: 00300, Train Loss: 0.5584, Train MAPE: -3.4890, Train RMSE: 0.7452\n"
          ]
        },
        {
          "name": "stderr",
          "output_type": "stream",
          "text": [
            "\r 94%|█████████▍| 47/50 [13:19<00:50, 16.83s/it]"
          ]
        },
        {
          "name": "stdout",
          "output_type": "stream",
          "text": [
            "Iter: 00000, Train Loss: 0.7906, Train MAPE: 0.9093, Train RMSE: 1.0770\n",
            "Iter: 00100, Train Loss: 1.1088, Train MAPE: -1.3479, Train RMSE: 1.5033\n",
            "Iter: 00200, Train Loss: 0.7031, Train MAPE: -0.2613, Train RMSE: 1.0389\n",
            "Iter: 00300, Train Loss: 0.5566, Train MAPE: 0.8708, Train RMSE: 0.7455\n"
          ]
        },
        {
          "name": "stderr",
          "output_type": "stream",
          "text": [
            "\r 96%|█████████▌| 48/50 [13:35<00:33, 16.67s/it]"
          ]
        },
        {
          "name": "stdout",
          "output_type": "stream",
          "text": [
            "Iter: 00000, Train Loss: 0.7980, Train MAPE: 1.4160, Train RMSE: 1.0855\n",
            "Iter: 00100, Train Loss: 1.1210, Train MAPE: -2.2018, Train RMSE: 1.5137\n",
            "Iter: 00200, Train Loss: 0.7019, Train MAPE: -0.2230, Train RMSE: 1.0500\n",
            "Iter: 00300, Train Loss: 0.5560, Train MAPE: -0.2860, Train RMSE: 0.7495\n"
          ]
        },
        {
          "name": "stderr",
          "output_type": "stream",
          "text": [
            "\r 98%|█████████▊| 49/50 [13:51<00:16, 16.59s/it]"
          ]
        },
        {
          "name": "stdout",
          "output_type": "stream",
          "text": [
            "Iter: 00000, Train Loss: 0.7956, Train MAPE: 0.6874, Train RMSE: 1.0834\n",
            "Iter: 00100, Train Loss: 1.1161, Train MAPE: -2.1202, Train RMSE: 1.5127\n",
            "Iter: 00200, Train Loss: 0.7219, Train MAPE: -0.3028, Train RMSE: 1.0499\n",
            "Iter: 00300, Train Loss: 0.5468, Train MAPE: -1.1858, Train RMSE: 0.7379\n"
          ]
        },
        {
          "name": "stderr",
          "output_type": "stream",
          "text": [
            "100%|██████████| 50/50 [14:08<00:00, 16.98s/it]\n"
          ]
        },
        {
          "name": "stdout",
          "output_type": "stream",
          "text": [
            "MAE: 0.6548\n"
          ]
        }
      ],
      "source": [
        "# Run WikiMaths Web Traffic Dataset\n",
        "\n",
        "from torch_geometric_temporal.signal import temporal_signal_split\n",
        "\n",
        "# sample training loop\n",
        "train_dataset, test_dataset = temporal_signal_split(dataset, train_ratio=0.7)\n",
        "\n",
        "\n",
        "import torch\n",
        "import torch.nn.functional as F\n",
        "\n",
        "# training\n",
        "from tqdm import tqdm\n",
        "import time\n",
        "\n",
        "device = torch.device(\"cuda\" if torch.cuda.is_available() else \"cpu\")\n",
        "torch.cuda.empty_cache() # clear cuda cache\n",
        "\n",
        "#enable extensions\n",
        "util.extensions_enabled = True\n",
        "print(\"Graph Wavenet Extension for Performance Improvements: {}\".format(util.extensions_enabled))\n",
        "in_dim = 4\n",
        "out_dim = 1\n",
        "num_nodes = 20\n",
        "timesteps_to_predict = 1\n",
        "epochs = 200\n",
        "lrate = 0.0005\n",
        "wdecay = 0.0001\n",
        "save_path = \"store/checkpoint\"\n",
        "\n",
        "model = GraphWaveNet(\n",
        "    num_nodes=num_nodes,\n",
        "    in_channels=in_dim,\n",
        "    out_channels=out_dim,\n",
        "    out_timesteps=timesteps_to_predict,\n",
        ").to(device)\n",
        "\n",
        "if not os.path.exists(save_path):\n",
        "    os.makedirs(save_path)\n",
        "\n",
        "print(\"start training...\", flush=True)\n",
        "\n",
        "optimizer = torch.optim.Adam(model.parameters(), lr=lrate, weight_decay=wdecay)\n",
        "scheduler = None\n",
        "if util.extensions_enabled:\n",
        "    scheduler = torch.optim.lr_scheduler.StepLR(optimizer, step_size=1, gamma=0.03)\n",
        "clip = 5\n",
        "if util.extensions_enabled:\n",
        "    clip = 3\n",
        "\n",
        "model.train()\n",
        "\n",
        "for epoch in tqdm(range(epochs)):\n",
        "    train_loss = []\n",
        "    train_mape = []\n",
        "    train_rmse = []\n",
        "    t1 = time.time()\n",
        "\n",
        "    for iter, snapshot in enumerate(train_dataset):\n",
        "        x_train = snapshot.x.reshape(-1, num_nodes, in_dim).to(device)\n",
        "        y_train = snapshot.y.to(device)\n",
        "        pred = model(x_train, snapshot.edge_index, snapshot.edge_attr).squeeze()\n",
        "        loss = masked_mae(pred, y_train, 0.0) # mean absolute error as loss\n",
        "        loss.backward()\n",
        "\n",
        "        if util.extensions_enabled:\n",
        "            torch.nn.utils.clip_grad_norm_(model.parameters(), clip)\n",
        "        optimizer.step()\n",
        "        if util.extensions_enabled:\n",
        "            scheduler.step()\n",
        "        optimizer.zero_grad()\n",
        "\n",
        "        mape = masked_mape(pred, y_train, 0.0).item()\n",
        "        rmse = masked_rmse(pred, y_train, 0.0).item()\n",
        "        metrics = loss.item(), mape, rmse\n",
        "        train_loss.append(metrics[0])\n",
        "        train_mape.append(metrics[1])\n",
        "        train_rmse.append(metrics[2])\n",
        "\n",
        "        if iter % 100 == 0:\n",
        "            log = 'Iter: {:05d}, Train Loss: {:.4f}, Train MAPE: ' + \\\n",
        "                '{:.4f}, Train RMSE: {:.4f}'\n",
        "            print(\n",
        "                log.format(iter, train_loss[-1], train_mape[-1],\n",
        "                            train_rmse[-1]), flush=True)\n",
        "\n",
        "\n",
        "\n",
        "# eval\n",
        "model.eval()\n",
        "loss = 0\n",
        "for iter, snapshot in enumerate(test_dataset):\n",
        "    x_test = snapshot.x.reshape(-1, num_nodes, in_dim).to(device)\n",
        "    y_test = snapshot.y.to(device)\n",
        "\n",
        "    with torch.no_grad():\n",
        "        pred = model(x_test, snapshot.edge_index, snapshot.edge_attr)\n",
        "    loss += masked_mae(pred, y_test, 0.0) # mean absolute error as loss\n",
        "\n",
        "loss = loss / (iter+1)\n",
        "loss = loss.item()\n",
        "print(\"MAE: {:.4f}\".format(loss))\n"
      ]
    },
    {
      "cell_type": "code",
      "execution_count": 8,
      "metadata": {
        "colab": {
          "base_uri": "https://localhost:8080/"
        },
        "id": "NcsS-FdiPrRU",
        "outputId": "23bf0949-3028-4e7c-9ff1-bc57b568d5fb"
      },
      "outputs": [
        {
          "name": "stdout",
          "output_type": "stream",
          "text": [
            "Wed Dec 13 18:31:21 2023       \n",
            "+-----------------------------------------------------------------------------+\n",
            "| NVIDIA-SMI 525.105.17   Driver Version: 525.105.17   CUDA Version: 12.0     |\n",
            "|-------------------------------+----------------------+----------------------+\n",
            "| GPU  Name        Persistence-M| Bus-Id        Disp.A | Volatile Uncorr. ECC |\n",
            "| Fan  Temp  Perf  Pwr:Usage/Cap|         Memory-Usage | GPU-Util  Compute M. |\n",
            "|                               |                      |               MIG M. |\n",
            "|===============================+======================+======================|\n",
            "|   0  Tesla T4            Off  | 00000000:00:04.0 Off |                    0 |\n",
            "| N/A   75C    P0    34W /  70W |   1571MiB / 15360MiB |     17%      Default |\n",
            "|                               |                      |                  N/A |\n",
            "+-------------------------------+----------------------+----------------------+\n",
            "                                                                               \n",
            "+-----------------------------------------------------------------------------+\n",
            "| Processes:                                                                  |\n",
            "|  GPU   GI   CI        PID   Type   Process name                  GPU Memory |\n",
            "|        ID   ID                                                   Usage      |\n",
            "|=============================================================================|\n",
            "+-----------------------------------------------------------------------------+\n"
          ]
        }
      ],
      "source": [
        "!nvidia-smi"
      ]
    },
    {
      "cell_type": "code",
      "execution_count": 9,
      "metadata": {
        "id": "GU0OV1AJUVCT"
      },
      "outputs": [],
      "source": [
        "# Reset GPU RAM if GPU out of memory\n",
        "\n",
        "# !pip install numba\n",
        "\n",
        "# from numba import cuda\n",
        "\n",
        "# cuda.select_device(0) # choosing second GPU\n",
        "\n",
        "# cuda.close()"
      ]
    },
    {
      "cell_type": "code",
      "execution_count": 9,
      "metadata": {
        "id": "yi58dfonTQG3"
      },
      "outputs": [],
      "source": []
    }
  ],
  "metadata": {
    "accelerator": "GPU",
    "colab": {
      "machine_shape": "hm",
      "provenance": []
    },
    "kernelspec": {
      "display_name": "Python 3",
      "language": "python",
      "name": "python3"
    },
    "language_info": {
      "codemirror_mode": {
        "name": "ipython",
        "version": 3
      },
      "file_extension": ".py",
      "mimetype": "text/x-python",
      "name": "python",
      "nbconvert_exporter": "python",
      "pygments_lexer": "ipython3",
      "version": "3.9.2"
    }
  },
  "nbformat": 4,
  "nbformat_minor": 0
}
