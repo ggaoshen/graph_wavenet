{
  "cells": [
    {
      "cell_type": "markdown",
      "metadata": {
        "colab_type": "text",
        "id": "view-in-github"
      },
      "source": [
        "<a href=\"https://colab.research.google.com/github/ggaoshen/graph_wavenet/blob/sg-experiment/CS224W_Final_Project.ipynb\" target=\"_parent\"><img src=\"https://colab.research.google.com/assets/colab-badge.svg\" alt=\"Open In Colab\"/></a>"
      ]
    },
    {
      "cell_type": "markdown",
      "metadata": {
        "id": "XuXWJLEm2UWS"
      },
      "source": [
        "# **CS224W - Final Project**"
      ]
    },
    {
      "cell_type": "markdown",
      "metadata": {
        "id": "8gzsP50bF6Gb"
      },
      "source": [
        "Description goes here."
      ]
    },
    {
      "cell_type": "markdown",
      "metadata": {
        "id": "MSaetj53YnT6"
      },
      "source": [
        "# Device\n",
        "You might need to use GPU for this Colab.\n",
        "\n",
        "Please click `Runtime` and then `Change runtime type`. Then set the `hardware accelerator` to **GPU**."
      ]
    },
    {
      "cell_type": "markdown",
      "metadata": {
        "id": "67gOQITlCNQi"
      },
      "source": [
        "# Installation"
      ]
    },
    {
      "cell_type": "code",
      "execution_count": 1,
      "metadata": {
        "colab": {
          "base_uri": "https://localhost:8080/"
        },
        "id": "J_m9l6OYCQZP",
        "outputId": "86bcc330-2088-47b9-92b6-edb3ab026bf4"
      },
      "outputs": [
        {
          "name": "stdout",
          "output_type": "stream",
          "text": [
            "Looking in links: https://pytorch-geometric.com/whl/torch-2.1.0+cu118.html\n",
            "Collecting torch-scatter\n",
            "  Downloading https://data.pyg.org/whl/torch-2.1.0%2Bcu118/torch_scatter-2.1.2%2Bpt21cu118-cp310-cp310-linux_x86_64.whl (10.2 MB)\n",
            "\u001b[2K     \u001b[90m━━━━━━━━━━━━━━━━━━━━━━━━━━━━━━━━━━━━━━━━\u001b[0m \u001b[32m10.2/10.2 MB\u001b[0m \u001b[31m32.6 MB/s\u001b[0m eta \u001b[36m0:00:00\u001b[0m\n",
            "\u001b[?25hInstalling collected packages: torch-scatter\n",
            "Successfully installed torch-scatter-2.1.2+pt21cu118\n",
            "Looking in links: https://pytorch-geometric.com/whl/torch-2.1.0+cu118.html\n",
            "Collecting torch-sparse\n",
            "  Downloading https://data.pyg.org/whl/torch-2.1.0%2Bcu118/torch_sparse-0.6.18%2Bpt21cu118-cp310-cp310-linux_x86_64.whl (4.9 MB)\n",
            "\u001b[2K     \u001b[90m━━━━━━━━━━━━━━━━━━━━━━━━━━━━━━━━━━━━━━━━\u001b[0m \u001b[32m4.9/4.9 MB\u001b[0m \u001b[31m15.8 MB/s\u001b[0m eta \u001b[36m0:00:00\u001b[0m\n",
            "\u001b[?25hRequirement already satisfied: scipy in /usr/local/lib/python3.10/dist-packages (from torch-sparse) (1.11.4)\n",
            "Requirement already satisfied: numpy<1.28.0,>=1.21.6 in /usr/local/lib/python3.10/dist-packages (from scipy->torch-sparse) (1.23.5)\n",
            "Installing collected packages: torch-sparse\n",
            "Successfully installed torch-sparse-0.6.18+pt21cu118\n",
            "Collecting torch-geometric\n",
            "  Downloading torch_geometric-2.4.0-py3-none-any.whl (1.0 MB)\n",
            "\u001b[2K     \u001b[90m━━━━━━━━━━━━━━━━━━━━━━━━━━━━━━━━━━━━━━━━\u001b[0m \u001b[32m1.0/1.0 MB\u001b[0m \u001b[31m12.6 MB/s\u001b[0m eta \u001b[36m0:00:00\u001b[0m\n",
            "\u001b[?25hRequirement already satisfied: tqdm in /usr/local/lib/python3.10/dist-packages (from torch-geometric) (4.66.1)\n",
            "Requirement already satisfied: numpy in /usr/local/lib/python3.10/dist-packages (from torch-geometric) (1.23.5)\n",
            "Requirement already satisfied: scipy in /usr/local/lib/python3.10/dist-packages (from torch-geometric) (1.11.4)\n",
            "Requirement already satisfied: jinja2 in /usr/local/lib/python3.10/dist-packages (from torch-geometric) (3.1.2)\n",
            "Requirement already satisfied: requests in /usr/local/lib/python3.10/dist-packages (from torch-geometric) (2.31.0)\n",
            "Requirement already satisfied: pyparsing in /usr/local/lib/python3.10/dist-packages (from torch-geometric) (3.1.1)\n",
            "Requirement already satisfied: scikit-learn in /usr/local/lib/python3.10/dist-packages (from torch-geometric) (1.2.2)\n",
            "Requirement already satisfied: psutil>=5.8.0 in /usr/local/lib/python3.10/dist-packages (from torch-geometric) (5.9.5)\n",
            "Requirement already satisfied: MarkupSafe>=2.0 in /usr/local/lib/python3.10/dist-packages (from jinja2->torch-geometric) (2.1.3)\n",
            "Requirement already satisfied: charset-normalizer<4,>=2 in /usr/local/lib/python3.10/dist-packages (from requests->torch-geometric) (3.3.2)\n",
            "Requirement already satisfied: idna<4,>=2.5 in /usr/local/lib/python3.10/dist-packages (from requests->torch-geometric) (3.6)\n",
            "Requirement already satisfied: urllib3<3,>=1.21.1 in /usr/local/lib/python3.10/dist-packages (from requests->torch-geometric) (2.0.7)\n",
            "Requirement already satisfied: certifi>=2017.4.17 in /usr/local/lib/python3.10/dist-packages (from requests->torch-geometric) (2023.11.17)\n",
            "Requirement already satisfied: joblib>=1.1.1 in /usr/local/lib/python3.10/dist-packages (from scikit-learn->torch-geometric) (1.3.2)\n",
            "Requirement already satisfied: threadpoolctl>=2.0.0 in /usr/local/lib/python3.10/dist-packages (from scikit-learn->torch-geometric) (3.2.0)\n",
            "Installing collected packages: torch-geometric\n",
            "Successfully installed torch-geometric-2.4.0\n",
            "  Preparing metadata (setup.py) ... \u001b[?25l\u001b[?25hdone\n",
            "  Building wheel for deepsnap (setup.py) ... \u001b[?25l\u001b[?25hdone\n"
          ]
        }
      ],
      "source": [
        "# Install torch geometric\n",
        "import os\n",
        "import torch\n",
        "if 'IS_GRADESCOPE_ENV' not in os.environ:\n",
        "  torch_version = str(torch.__version__)\n",
        "  scatter_src = f\"https://pytorch-geometric.com/whl/torch-{torch_version}.html\"\n",
        "  sparse_src = f\"https://pytorch-geometric.com/whl/torch-{torch_version}.html\"\n",
        "  !pip install torch-scatter -f $scatter_src\n",
        "  !pip install torch-sparse -f $sparse_src\n",
        "  !pip install torch-geometric\n",
        "  !pip install -q git+https://github.com/snap-stanford/deepsnap.git\n",
        "  !pip install -U -q PyDrive"
      ]
    },
    {
      "cell_type": "code",
      "execution_count": 2,
      "metadata": {
        "colab": {
          "base_uri": "https://localhost:8080/"
        },
        "id": "Qpr0ThDgZmZV",
        "outputId": "a7879f6c-380c-41d5-a61d-bc0a9a3b2068"
      },
      "outputs": [
        {
          "name": "stdout",
          "output_type": "stream",
          "text": [
            "nvcc: NVIDIA (R) Cuda compiler driver\n",
            "Copyright (c) 2005-2022 NVIDIA Corporation\n",
            "Built on Wed_Sep_21_10:33:58_PDT_2022\n",
            "Cuda compilation tools, release 11.8, V11.8.89\n",
            "Build cuda_11.8.r11.8/compiler.31833905_0\n",
            "11.8\n"
          ]
        }
      ],
      "source": [
        "if 'IS_GRADESCOPE_ENV' not in os.environ:\n",
        "  !nvcc --version\n",
        "  !python -c \"import torch; print(torch.version.cuda)\""
      ]
    },
    {
      "cell_type": "code",
      "execution_count": 3,
      "metadata": {
        "colab": {
          "base_uri": "https://localhost:8080/"
        },
        "id": "PRfgbfTjCRD_",
        "outputId": "a81f9479-cfc4-495c-a620-2549258ecf57"
      },
      "outputs": [
        {
          "name": "stdout",
          "output_type": "stream",
          "text": [
            "2.1.0+cu118\n",
            "2.4.0\n"
          ]
        }
      ],
      "source": [
        "if 'IS_GRADESCOPE_ENV' not in os.environ:\n",
        "  import torch\n",
        "  print(torch.__version__)\n",
        "  import torch_geometric\n",
        "  print(torch_geometric.__version__)"
      ]
    },
    {
      "cell_type": "code",
      "execution_count": 4,
      "metadata": {
        "colab": {
          "base_uri": "https://localhost:8080/"
        },
        "id": "i1Re1G-ZlcQP",
        "outputId": "e54a5bff-c8f6-4e4b-f298-a639c94785f8"
      },
      "outputs": [
        {
          "name": "stdout",
          "output_type": "stream",
          "text": [
            "Cloning into 'graph_wavenet'...\n",
            "remote: Enumerating objects: 116, done.\u001b[K\n",
            "remote: Counting objects: 100% (116/116), done.\u001b[K\n",
            "remote: Compressing objects: 100% (100/100), done.\u001b[K\n",
            "remote: Total 116 (delta 57), reused 49 (delta 14), pack-reused 0\u001b[K\n",
            "Receiving objects: 100% (116/116), 91.76 KiB | 824.00 KiB/s, done.\n",
            "Resolving deltas: 100% (57/57), done.\n"
          ]
        }
      ],
      "source": [
        "# Import GraphWaveNet module\n",
        "!git clone -b mmajid/tgnn-improvements https://github.com/ggaoshen/graph_wavenet.git # NOTE: choose the right branch\n",
        "%load graph_wavenet/src/graphwavenet.py\n",
        "import sys\n",
        "sys.path.append('graph_wavenet/src/')\n",
        "from graphwavenet import GraphWaveNet\n",
        "import util as util\n",
        "from util import masked_rmse, masked_mse, masked_mae, masked_mape, metric"
      ]
    },
    {
      "cell_type": "code",
      "execution_count": 5,
      "metadata": {
        "colab": {
          "base_uri": "https://localhost:8080/"
        },
        "id": "xGgtAIg9lcQP",
        "outputId": "ede49469-39b6-45ea-e567-957649054511"
      },
      "outputs": [
        {
          "name": "stdout",
          "output_type": "stream",
          "text": [
            "Collecting torch-geometric-temporal\n",
            "  Downloading torch_geometric_temporal-0.54.0.tar.gz (48 kB)\n",
            "\u001b[?25l     \u001b[90m━━━━━━━━━━━━━━━━━━━━━━━━━━━━━━━━━━━━━━━━\u001b[0m \u001b[32m0.0/48.1 kB\u001b[0m \u001b[31m?\u001b[0m eta \u001b[36m-:--:--\u001b[0m\r\u001b[2K     \u001b[90m━━━━━━━━━━━━━━━━━━━━━━━━━━━━━━━━━━━━━━━━\u001b[0m \u001b[32m48.1/48.1 kB\u001b[0m \u001b[31m1.2 MB/s\u001b[0m eta \u001b[36m0:00:00\u001b[0m\n",
            "\u001b[?25h  Preparing metadata (setup.py) ... \u001b[?25l\u001b[?25hdone\n",
            "Requirement already satisfied: decorator==4.4.2 in /usr/local/lib/python3.10/dist-packages (from torch-geometric-temporal) (4.4.2)\n",
            "Requirement already satisfied: torch in /usr/local/lib/python3.10/dist-packages (from torch-geometric-temporal) (2.1.0+cu118)\n",
            "Requirement already satisfied: cython in /usr/local/lib/python3.10/dist-packages (from torch-geometric-temporal) (3.0.6)\n",
            "Collecting pandas<=1.3.5 (from torch-geometric-temporal)\n",
            "  Downloading pandas-1.3.5-cp310-cp310-manylinux_2_17_x86_64.manylinux2014_x86_64.whl (11.5 MB)\n",
            "\u001b[2K     \u001b[90m━━━━━━━━━━━━━━━━━━━━━━━━━━━━━━━━━━━━━━━━\u001b[0m \u001b[32m11.5/11.5 MB\u001b[0m \u001b[31m81.0 MB/s\u001b[0m eta \u001b[36m0:00:00\u001b[0m\n",
            "\u001b[?25hRequirement already satisfied: torch_sparse in /usr/local/lib/python3.10/dist-packages (from torch-geometric-temporal) (0.6.18+pt21cu118)\n",
            "Requirement already satisfied: torch_scatter in /usr/local/lib/python3.10/dist-packages (from torch-geometric-temporal) (2.1.2+pt21cu118)\n",
            "Requirement already satisfied: torch_geometric in /usr/local/lib/python3.10/dist-packages (from torch-geometric-temporal) (2.4.0)\n",
            "Requirement already satisfied: numpy in /usr/local/lib/python3.10/dist-packages (from torch-geometric-temporal) (1.23.5)\n",
            "Requirement already satisfied: six in /usr/local/lib/python3.10/dist-packages (from torch-geometric-temporal) (1.16.0)\n",
            "Requirement already satisfied: networkx in /usr/local/lib/python3.10/dist-packages (from torch-geometric-temporal) (3.2.1)\n",
            "Requirement already satisfied: python-dateutil>=2.7.3 in /usr/local/lib/python3.10/dist-packages (from pandas<=1.3.5->torch-geometric-temporal) (2.8.2)\n",
            "Requirement already satisfied: pytz>=2017.3 in /usr/local/lib/python3.10/dist-packages (from pandas<=1.3.5->torch-geometric-temporal) (2023.3.post1)\n",
            "Requirement already satisfied: filelock in /usr/local/lib/python3.10/dist-packages (from torch->torch-geometric-temporal) (3.13.1)\n",
            "Requirement already satisfied: typing-extensions in /usr/local/lib/python3.10/dist-packages (from torch->torch-geometric-temporal) (4.5.0)\n",
            "Requirement already satisfied: sympy in /usr/local/lib/python3.10/dist-packages (from torch->torch-geometric-temporal) (1.12)\n",
            "Requirement already satisfied: jinja2 in /usr/local/lib/python3.10/dist-packages (from torch->torch-geometric-temporal) (3.1.2)\n",
            "Requirement already satisfied: fsspec in /usr/local/lib/python3.10/dist-packages (from torch->torch-geometric-temporal) (2023.6.0)\n",
            "Requirement already satisfied: triton==2.1.0 in /usr/local/lib/python3.10/dist-packages (from torch->torch-geometric-temporal) (2.1.0)\n",
            "Requirement already satisfied: tqdm in /usr/local/lib/python3.10/dist-packages (from torch_geometric->torch-geometric-temporal) (4.66.1)\n",
            "Requirement already satisfied: scipy in /usr/local/lib/python3.10/dist-packages (from torch_geometric->torch-geometric-temporal) (1.11.4)\n",
            "Requirement already satisfied: requests in /usr/local/lib/python3.10/dist-packages (from torch_geometric->torch-geometric-temporal) (2.31.0)\n",
            "Requirement already satisfied: pyparsing in /usr/local/lib/python3.10/dist-packages (from torch_geometric->torch-geometric-temporal) (3.1.1)\n",
            "Requirement already satisfied: scikit-learn in /usr/local/lib/python3.10/dist-packages (from torch_geometric->torch-geometric-temporal) (1.2.2)\n",
            "Requirement already satisfied: psutil>=5.8.0 in /usr/local/lib/python3.10/dist-packages (from torch_geometric->torch-geometric-temporal) (5.9.5)\n",
            "Requirement already satisfied: MarkupSafe>=2.0 in /usr/local/lib/python3.10/dist-packages (from jinja2->torch->torch-geometric-temporal) (2.1.3)\n",
            "Requirement already satisfied: charset-normalizer<4,>=2 in /usr/local/lib/python3.10/dist-packages (from requests->torch_geometric->torch-geometric-temporal) (3.3.2)\n",
            "Requirement already satisfied: idna<4,>=2.5 in /usr/local/lib/python3.10/dist-packages (from requests->torch_geometric->torch-geometric-temporal) (3.6)\n",
            "Requirement already satisfied: urllib3<3,>=1.21.1 in /usr/local/lib/python3.10/dist-packages (from requests->torch_geometric->torch-geometric-temporal) (2.0.7)\n",
            "Requirement already satisfied: certifi>=2017.4.17 in /usr/local/lib/python3.10/dist-packages (from requests->torch_geometric->torch-geometric-temporal) (2023.11.17)\n",
            "Requirement already satisfied: joblib>=1.1.1 in /usr/local/lib/python3.10/dist-packages (from scikit-learn->torch_geometric->torch-geometric-temporal) (1.3.2)\n",
            "Requirement already satisfied: threadpoolctl>=2.0.0 in /usr/local/lib/python3.10/dist-packages (from scikit-learn->torch_geometric->torch-geometric-temporal) (3.2.0)\n",
            "Requirement already satisfied: mpmath>=0.19 in /usr/local/lib/python3.10/dist-packages (from sympy->torch->torch-geometric-temporal) (1.3.0)\n",
            "Building wheels for collected packages: torch-geometric-temporal\n",
            "  Building wheel for torch-geometric-temporal (setup.py) ... \u001b[?25l\u001b[?25hdone\n",
            "  Created wheel for torch-geometric-temporal: filename=torch_geometric_temporal-0.54.0-py3-none-any.whl size=86722 sha256=2ed608208e61fd9daf2a89c918dc2c4825a78ac08414cbb7562725c0cf263ce9\n",
            "  Stored in directory: /root/.cache/pip/wheels/9e/9b/b6/e15256e053f0cb49b1084a67a709db909d418386a231f0722c\n",
            "Successfully built torch-geometric-temporal\n",
            "Installing collected packages: pandas, torch-geometric-temporal\n",
            "  Attempting uninstall: pandas\n",
            "    Found existing installation: pandas 1.5.3\n",
            "    Uninstalling pandas-1.5.3:\n",
            "      Successfully uninstalled pandas-1.5.3\n",
            "\u001b[31mERROR: pip's dependency resolver does not currently take into account all the packages that are installed. This behaviour is the source of the following dependency conflicts.\n",
            "lida 0.0.10 requires fastapi, which is not installed.\n",
            "lida 0.0.10 requires kaleido, which is not installed.\n",
            "lida 0.0.10 requires python-multipart, which is not installed.\n",
            "lida 0.0.10 requires uvicorn, which is not installed.\n",
            "bigframes 0.15.0 requires pandas>=1.5.0, but you have pandas 1.3.5 which is incompatible.\n",
            "google-colab 1.0.0 requires pandas==1.5.3, but you have pandas 1.3.5 which is incompatible.\n",
            "plotnine 0.12.4 requires pandas>=1.5.0, but you have pandas 1.3.5 which is incompatible.\n",
            "xarray 2023.7.0 requires pandas>=1.4, but you have pandas 1.3.5 which is incompatible.\u001b[0m\u001b[31m\n",
            "\u001b[0mSuccessfully installed pandas-1.3.5 torch-geometric-temporal-0.54.0\n"
          ]
        }
      ],
      "source": [
        "!pip install -U torch-geometric-temporal"
      ]
    },
    {
      "cell_type": "code",
      "execution_count": 6,
      "metadata": {
        "colab": {
          "base_uri": "https://localhost:8080/"
        },
        "id": "SHipsw6jF91T",
        "outputId": "1bf7a29e-fc08-4db2-bd69-ecc4348b217b"
      },
      "outputs": [
        {
          "name": "stdout",
          "output_type": "stream",
          "text": [
            "METRLADatasetLoader Data(x=[207, 2, 12], edge_index=[2, 1722], edge_attr=[1722], y=[207, 12])\n",
            "METRLADatasetLoader Data(x=[207, 2, 12], edge_index=[2, 1722], edge_attr=[1722], y=[207, 12])\n",
            "ChickenpoxDatasetLoader Data(x=[20, 4], edge_index=[2, 102], edge_attr=[102], y=[20])\n",
            "ChickenpoxDatasetLoader Data(x=[20, 4], edge_index=[2, 102], edge_attr=[102], y=[20])\n",
            "WikiMathsDatasetLoader Data(x=[1068, 14], edge_index=[2, 27079], edge_attr=[27079], y=[1068])\n",
            "WikiMathsDatasetLoader Data(x=[1068, 14], edge_index=[2, 27079], edge_attr=[27079], y=[1068])\n"
          ]
        }
      ],
      "source": [
        "import ssl\n",
        "\n",
        "ssl._create_default_https_context = ssl._create_unverified_context\n",
        "\n",
        "\n",
        "\n",
        "# # look for other datasets\n",
        "from torch_geometric_temporal.dataset import METRLADatasetLoader\n",
        "loader = METRLADatasetLoader()\n",
        "dataset = loader.get_dataset(num_timesteps_in=12, num_timesteps_out=12)\n",
        "iterator = iter(dataset)\n",
        "print(\"METRLADatasetLoader\", next(iterator))\n",
        "print(\"METRLADatasetLoader\", next(iterator))\n",
        "\n",
        "\n",
        "from torch_geometric_temporal.dataset import ChickenpoxDatasetLoader\n",
        "dataset = ChickenpoxDatasetLoader().get_dataset()\n",
        "iterator = iter(dataset)\n",
        "print(\"ChickenpoxDatasetLoader\", next(iterator))\n",
        "print(\"ChickenpoxDatasetLoader\", next(iterator))\n",
        "\n",
        "# from torch_geometric_temporal.dataset import PedalMeDatasetLoader\n",
        "# dataset = PedalMeDatasetLoader().get_dataset()\n",
        "# print(\"PedalMeDatasetLoader\", next(iter(dataset)))\n",
        "\n",
        "\n",
        "# from torch_geometric_temporal.dataset import WikiMathsDatasetLoader\n",
        "# dataset = WikiMathsDatasetLoader().get_dataset(lags=14)\n",
        "# iterator = iter(dataset)\n",
        "# print(\"WikiMathsDatasetLoader\", next(iterator))\n",
        "# print(\"WikiMathsDatasetLoader\", next(iterator))\n",
        "\n",
        "# from torch_geometric_temporal.dataset import WindmillOutputSmallDatasetLoader\n",
        "# dataset = WindmillOutputSmallDatasetLoader().get_dataset()\n",
        "# print(\"WindmillOutputSmallDatasetLoader\", next(iter(dataset)))\n",
        "\n",
        "# from torch_geometric_temporal.dataset import EnglandCovidDatasetLoader\n",
        "# dataset = EnglandCovidDatasetLoader().get_dataset()\n",
        "# print(\"EnglandCovidDatasetLoader\", next(iter(dataset)))\n",
        "\n",
        "\n",
        "# from torch_geometric_temporal.dataset import MontevideoBusDatasetLoader\n",
        "# dataset = MontevideoBusDatasetLoader().get_dataset()\n",
        "# print(\"MontevideoBusDatasetLoader\", next(iter(dataset)))\n",
        "\n",
        "\n",
        "# from torch_geometric_temporal.dataset import TwitterTennisDatasetLoader\n",
        "# dataset = TwitterTennisDatasetLoader().get_dataset()\n",
        "# print(\"TwitterTennisDatasetLoader\", next(iter(dataset)))"
      ]
    },
    {
      "cell_type": "code",
      "execution_count": 7,
      "metadata": {
        "colab": {
          "base_uri": "https://localhost:8080/"
        },
        "id": "rW_Gc1oQ8rNC",
        "outputId": "334b8b9b-f38a-437b-dab8-c6cdfcc90a14"
      },
      "outputs": [
        {
          "name": "stdout",
          "output_type": "stream",
          "text": [
            "start training...\n"
          ]
        },
        {
          "name": "stderr",
          "output_type": "stream",
          "text": [
            "\r  0%|          | 0/50 [00:00<?, ?it/s]"
          ]
        },
        {
          "name": "stdout",
          "output_type": "stream",
          "text": [
            "Iter: 00000, Train Loss: 0.8241, Train MAPE: -0.9656, Train RMSE: 0.9297\n",
            "Iter: 00100, Train Loss: 0.3730, Train MAPE: -0.2377, Train RMSE: 0.6042\n",
            "Iter: 00200, Train Loss: 0.4254, Train MAPE: 0.3083, Train RMSE: 0.7137\n",
            "Iter: 00300, Train Loss: 0.3780, Train MAPE: 1.3412, Train RMSE: 0.6633\n",
            "Iter: 00400, Train Loss: 0.3458, Train MAPE: -0.4844, Train RMSE: 0.5490\n",
            "Iter: 00500, Train Loss: 0.3241, Train MAPE: 4.1139, Train RMSE: 0.4597\n"
          ]
        },
        {
          "name": "stderr",
          "output_type": "stream",
          "text": [
            "\r  2%|▏         | 1/50 [00:42<35:05, 42.96s/it]"
          ]
        },
        {
          "name": "stdout",
          "output_type": "stream",
          "text": [
            "Iter: 00000, Train Loss: 0.6678, Train MAPE: -0.8914, Train RMSE: 0.7701\n",
            "Iter: 00100, Train Loss: 0.3278, Train MAPE: 0.6174, Train RMSE: 0.5522\n",
            "Iter: 00200, Train Loss: 0.4119, Train MAPE: 0.3628, Train RMSE: 0.7039\n",
            "Iter: 00300, Train Loss: 0.3689, Train MAPE: 2.2443, Train RMSE: 0.6732\n",
            "Iter: 00400, Train Loss: 0.3234, Train MAPE: -0.1467, Train RMSE: 0.5359\n",
            "Iter: 00500, Train Loss: 0.3117, Train MAPE: 4.1014, Train RMSE: 0.4499\n"
          ]
        },
        {
          "name": "stderr",
          "output_type": "stream",
          "text": [
            "\r  4%|▍         | 2/50 [01:16<29:51, 37.32s/it]"
          ]
        },
        {
          "name": "stdout",
          "output_type": "stream",
          "text": [
            "Iter: 00000, Train Loss: 0.5434, Train MAPE: -0.6326, Train RMSE: 0.6579\n",
            "Iter: 00100, Train Loss: 0.3163, Train MAPE: 0.8025, Train RMSE: 0.5442\n",
            "Iter: 00200, Train Loss: 0.4103, Train MAPE: 0.5414, Train RMSE: 0.7004\n",
            "Iter: 00300, Train Loss: 0.3534, Train MAPE: 2.4396, Train RMSE: 0.6497\n",
            "Iter: 00400, Train Loss: 0.3184, Train MAPE: 0.4052, Train RMSE: 0.5358\n",
            "Iter: 00500, Train Loss: 0.3154, Train MAPE: 3.5269, Train RMSE: 0.4544\n"
          ]
        },
        {
          "name": "stderr",
          "output_type": "stream",
          "text": [
            "\r  6%|▌         | 3/50 [01:49<27:36, 35.25s/it]"
          ]
        },
        {
          "name": "stdout",
          "output_type": "stream",
          "text": [
            "Iter: 00000, Train Loss: 0.4811, Train MAPE: -0.5443, Train RMSE: 0.5991\n",
            "Iter: 00100, Train Loss: 0.3127, Train MAPE: 0.7200, Train RMSE: 0.5400\n",
            "Iter: 00200, Train Loss: 0.4069, Train MAPE: 0.4120, Train RMSE: 0.6970\n",
            "Iter: 00300, Train Loss: 0.3474, Train MAPE: 2.1980, Train RMSE: 0.6389\n",
            "Iter: 00400, Train Loss: 0.3161, Train MAPE: 0.2240, Train RMSE: 0.5339\n",
            "Iter: 00500, Train Loss: 0.3183, Train MAPE: 3.8095, Train RMSE: 0.4547\n"
          ]
        },
        {
          "name": "stderr",
          "output_type": "stream",
          "text": [
            "\r  8%|▊         | 4/50 [02:22<26:19, 34.35s/it]"
          ]
        },
        {
          "name": "stdout",
          "output_type": "stream",
          "text": [
            "Iter: 00000, Train Loss: 0.4766, Train MAPE: -0.5388, Train RMSE: 0.5957\n",
            "Iter: 00100, Train Loss: 0.3163, Train MAPE: 0.6641, Train RMSE: 0.5405\n",
            "Iter: 00200, Train Loss: 0.4065, Train MAPE: 0.4899, Train RMSE: 0.6954\n",
            "Iter: 00300, Train Loss: 0.3465, Train MAPE: 2.1423, Train RMSE: 0.6367\n",
            "Iter: 00400, Train Loss: 0.3137, Train MAPE: 0.4828, Train RMSE: 0.5326\n",
            "Iter: 00500, Train Loss: 0.3049, Train MAPE: 4.2257, Train RMSE: 0.4459\n"
          ]
        },
        {
          "name": "stderr",
          "output_type": "stream",
          "text": [
            "\r 10%|█         | 5/50 [02:54<25:21, 33.81s/it]"
          ]
        },
        {
          "name": "stdout",
          "output_type": "stream",
          "text": [
            "Iter: 00000, Train Loss: 0.3997, Train MAPE: -0.4009, Train RMSE: 0.5251\n",
            "Iter: 00100, Train Loss: 0.3199, Train MAPE: 0.5238, Train RMSE: 0.5430\n",
            "Iter: 00200, Train Loss: 0.4060, Train MAPE: 0.4753, Train RMSE: 0.6956\n",
            "Iter: 00300, Train Loss: 0.3402, Train MAPE: 1.8906, Train RMSE: 0.6279\n",
            "Iter: 00400, Train Loss: 0.3119, Train MAPE: 0.6542, Train RMSE: 0.5311\n",
            "Iter: 00500, Train Loss: 0.3085, Train MAPE: 3.8586, Train RMSE: 0.4484\n"
          ]
        },
        {
          "name": "stderr",
          "output_type": "stream",
          "text": [
            "\r 12%|█▏        | 6/50 [03:27<24:31, 33.45s/it]"
          ]
        },
        {
          "name": "stdout",
          "output_type": "stream",
          "text": [
            "Iter: 00000, Train Loss: 0.3407, Train MAPE: -0.3264, Train RMSE: 0.4756\n",
            "Iter: 00100, Train Loss: 0.3191, Train MAPE: 0.2757, Train RMSE: 0.5416\n",
            "Iter: 00200, Train Loss: 0.4048, Train MAPE: 0.3893, Train RMSE: 0.6982\n",
            "Iter: 00300, Train Loss: 0.3416, Train MAPE: 2.1724, Train RMSE: 0.6305\n",
            "Iter: 00400, Train Loss: 0.3137, Train MAPE: 0.1707, Train RMSE: 0.5262\n",
            "Iter: 00500, Train Loss: 0.3072, Train MAPE: 3.7956, Train RMSE: 0.4476\n"
          ]
        },
        {
          "name": "stderr",
          "output_type": "stream",
          "text": [
            "\r 14%|█▍        | 7/50 [04:00<23:50, 33.27s/it]"
          ]
        },
        {
          "name": "stdout",
          "output_type": "stream",
          "text": [
            "Iter: 00000, Train Loss: 0.3417, Train MAPE: -0.3351, Train RMSE: 0.4737\n",
            "Iter: 00100, Train Loss: 0.3253, Train MAPE: 0.2740, Train RMSE: 0.5483\n",
            "Iter: 00200, Train Loss: 0.4076, Train MAPE: 0.5418, Train RMSE: 0.7002\n",
            "Iter: 00300, Train Loss: 0.3372, Train MAPE: 2.0650, Train RMSE: 0.6268\n",
            "Iter: 00400, Train Loss: 0.3150, Train MAPE: 0.1945, Train RMSE: 0.5275\n",
            "Iter: 00500, Train Loss: 0.3065, Train MAPE: 3.8907, Train RMSE: 0.4470\n"
          ]
        },
        {
          "name": "stderr",
          "output_type": "stream",
          "text": [
            "\r 16%|█▌        | 8/50 [04:34<23:23, 33.42s/it]"
          ]
        },
        {
          "name": "stdout",
          "output_type": "stream",
          "text": [
            "Iter: 00000, Train Loss: 0.3207, Train MAPE: -0.2823, Train RMSE: 0.4540\n",
            "Iter: 00100, Train Loss: 0.3236, Train MAPE: 0.1684, Train RMSE: 0.5450\n",
            "Iter: 00200, Train Loss: 0.4053, Train MAPE: 0.4960, Train RMSE: 0.6923\n",
            "Iter: 00300, Train Loss: 0.3389, Train MAPE: 1.7363, Train RMSE: 0.6281\n",
            "Iter: 00400, Train Loss: 0.3130, Train MAPE: 0.2245, Train RMSE: 0.5252\n",
            "Iter: 00500, Train Loss: 0.3011, Train MAPE: 4.4470, Train RMSE: 0.4450\n"
          ]
        },
        {
          "name": "stderr",
          "output_type": "stream",
          "text": [
            "\r 18%|█▊        | 9/50 [05:07<22:52, 33.48s/it]"
          ]
        },
        {
          "name": "stdout",
          "output_type": "stream",
          "text": [
            "Iter: 00000, Train Loss: 0.3077, Train MAPE: -0.2809, Train RMSE: 0.4414\n",
            "Iter: 00100, Train Loss: 0.3204, Train MAPE: 0.0341, Train RMSE: 0.5422\n",
            "Iter: 00200, Train Loss: 0.4072, Train MAPE: 0.5530, Train RMSE: 0.6962\n",
            "Iter: 00300, Train Loss: 0.3427, Train MAPE: 1.8967, Train RMSE: 0.6304\n",
            "Iter: 00400, Train Loss: 0.3131, Train MAPE: 0.3153, Train RMSE: 0.5244\n",
            "Iter: 00500, Train Loss: 0.3030, Train MAPE: 4.4425, Train RMSE: 0.4458\n"
          ]
        },
        {
          "name": "stderr",
          "output_type": "stream",
          "text": [
            "\r 20%|██        | 10/50 [05:41<22:15, 33.39s/it]"
          ]
        },
        {
          "name": "stdout",
          "output_type": "stream",
          "text": [
            "Iter: 00000, Train Loss: 0.3070, Train MAPE: -0.2664, Train RMSE: 0.4377\n",
            "Iter: 00100, Train Loss: 0.3194, Train MAPE: -0.0626, Train RMSE: 0.5415\n",
            "Iter: 00200, Train Loss: 0.4039, Train MAPE: 0.5220, Train RMSE: 0.6949\n",
            "Iter: 00300, Train Loss: 0.3386, Train MAPE: 2.0637, Train RMSE: 0.6263\n",
            "Iter: 00400, Train Loss: 0.3118, Train MAPE: 0.2084, Train RMSE: 0.5250\n",
            "Iter: 00500, Train Loss: 0.3000, Train MAPE: 4.5177, Train RMSE: 0.4469\n"
          ]
        },
        {
          "name": "stderr",
          "output_type": "stream",
          "text": [
            "\r 22%|██▏       | 11/50 [06:13<21:35, 33.22s/it]"
          ]
        },
        {
          "name": "stdout",
          "output_type": "stream",
          "text": [
            "Iter: 00000, Train Loss: 0.3022, Train MAPE: -0.2580, Train RMSE: 0.4347\n",
            "Iter: 00100, Train Loss: 0.3172, Train MAPE: -0.2172, Train RMSE: 0.5381\n",
            "Iter: 00200, Train Loss: 0.4069, Train MAPE: 0.4788, Train RMSE: 0.6945\n",
            "Iter: 00300, Train Loss: 0.3409, Train MAPE: 1.9037, Train RMSE: 0.6290\n",
            "Iter: 00400, Train Loss: 0.3129, Train MAPE: 0.3341, Train RMSE: 0.5246\n",
            "Iter: 00500, Train Loss: 0.3000, Train MAPE: 4.2078, Train RMSE: 0.4454\n"
          ]
        },
        {
          "name": "stderr",
          "output_type": "stream",
          "text": [
            "\r 24%|██▍       | 12/50 [06:46<20:56, 33.05s/it]"
          ]
        },
        {
          "name": "stdout",
          "output_type": "stream",
          "text": [
            "Iter: 00000, Train Loss: 0.2912, Train MAPE: -0.2349, Train RMSE: 0.4232\n",
            "Iter: 00100, Train Loss: 0.3181, Train MAPE: -0.2409, Train RMSE: 0.5395\n",
            "Iter: 00200, Train Loss: 0.4041, Train MAPE: 0.4526, Train RMSE: 0.6938\n",
            "Iter: 00300, Train Loss: 0.3380, Train MAPE: 1.7427, Train RMSE: 0.6290\n",
            "Iter: 00400, Train Loss: 0.3137, Train MAPE: 0.3311, Train RMSE: 0.5245\n",
            "Iter: 00500, Train Loss: 0.2911, Train MAPE: 4.1853, Train RMSE: 0.4396\n"
          ]
        },
        {
          "name": "stderr",
          "output_type": "stream",
          "text": [
            "\r 26%|██▌       | 13/50 [07:19<20:21, 33.01s/it]"
          ]
        },
        {
          "name": "stdout",
          "output_type": "stream",
          "text": [
            "Iter: 00000, Train Loss: 0.2930, Train MAPE: -0.2664, Train RMSE: 0.4274\n",
            "Iter: 00100, Train Loss: 0.3170, Train MAPE: -0.0812, Train RMSE: 0.5382\n",
            "Iter: 00200, Train Loss: 0.3992, Train MAPE: 0.4728, Train RMSE: 0.6919\n",
            "Iter: 00300, Train Loss: 0.3295, Train MAPE: 1.7112, Train RMSE: 0.6298\n",
            "Iter: 00400, Train Loss: 0.3141, Train MAPE: 0.5035, Train RMSE: 0.5253\n",
            "Iter: 00500, Train Loss: 0.2905, Train MAPE: 4.6299, Train RMSE: 0.4400\n"
          ]
        },
        {
          "name": "stderr",
          "output_type": "stream",
          "text": [
            "\r 28%|██▊       | 14/50 [07:52<19:44, 32.89s/it]"
          ]
        },
        {
          "name": "stdout",
          "output_type": "stream",
          "text": [
            "Iter: 00000, Train Loss: 0.2867, Train MAPE: -0.2225, Train RMSE: 0.4189\n",
            "Iter: 00100, Train Loss: 0.3278, Train MAPE: -0.0924, Train RMSE: 0.5492\n",
            "Iter: 00200, Train Loss: 0.4046, Train MAPE: 0.4169, Train RMSE: 0.6934\n",
            "Iter: 00300, Train Loss: 0.3383, Train MAPE: 1.8372, Train RMSE: 0.6294\n",
            "Iter: 00400, Train Loss: 0.3141, Train MAPE: 0.1485, Train RMSE: 0.5234\n",
            "Iter: 00500, Train Loss: 0.2956, Train MAPE: 4.4452, Train RMSE: 0.4413\n"
          ]
        },
        {
          "name": "stderr",
          "output_type": "stream",
          "text": [
            "\r 30%|███       | 15/50 [08:25<19:13, 32.95s/it]"
          ]
        },
        {
          "name": "stdout",
          "output_type": "stream",
          "text": [
            "Iter: 00000, Train Loss: 0.2913, Train MAPE: -0.2346, Train RMSE: 0.4246\n",
            "Iter: 00100, Train Loss: 0.3211, Train MAPE: 0.0441, Train RMSE: 0.5405\n",
            "Iter: 00200, Train Loss: 0.4086, Train MAPE: 0.4497, Train RMSE: 0.6953\n",
            "Iter: 00300, Train Loss: 0.3246, Train MAPE: 1.9672, Train RMSE: 0.6301\n",
            "Iter: 00400, Train Loss: 0.3157, Train MAPE: 0.0869, Train RMSE: 0.5250\n",
            "Iter: 00500, Train Loss: 0.2888, Train MAPE: 4.2526, Train RMSE: 0.4384\n"
          ]
        },
        {
          "name": "stderr",
          "output_type": "stream",
          "text": [
            "\r 32%|███▏      | 16/50 [08:58<18:45, 33.11s/it]"
          ]
        },
        {
          "name": "stdout",
          "output_type": "stream",
          "text": [
            "Iter: 00000, Train Loss: 0.2814, Train MAPE: -0.2276, Train RMSE: 0.4148\n",
            "Iter: 00100, Train Loss: 0.3288, Train MAPE: 0.3349, Train RMSE: 0.5476\n",
            "Iter: 00200, Train Loss: 0.3981, Train MAPE: 0.4662, Train RMSE: 0.6913\n",
            "Iter: 00300, Train Loss: 0.3180, Train MAPE: 1.7446, Train RMSE: 0.6253\n",
            "Iter: 00400, Train Loss: 0.3149, Train MAPE: 0.3608, Train RMSE: 0.5235\n",
            "Iter: 00500, Train Loss: 0.2876, Train MAPE: 4.3622, Train RMSE: 0.4376\n"
          ]
        },
        {
          "name": "stderr",
          "output_type": "stream",
          "text": [
            "\r 34%|███▍      | 17/50 [09:32<18:19, 33.32s/it]"
          ]
        },
        {
          "name": "stdout",
          "output_type": "stream",
          "text": [
            "Iter: 00000, Train Loss: 0.2826, Train MAPE: -0.2090, Train RMSE: 0.4165\n",
            "Iter: 00100, Train Loss: 0.3357, Train MAPE: 0.0432, Train RMSE: 0.5528\n",
            "Iter: 00200, Train Loss: 0.3997, Train MAPE: 0.4435, Train RMSE: 0.6914\n",
            "Iter: 00300, Train Loss: 0.3183, Train MAPE: 1.3569, Train RMSE: 0.6252\n",
            "Iter: 00400, Train Loss: 0.3120, Train MAPE: 0.1816, Train RMSE: 0.5248\n",
            "Iter: 00500, Train Loss: 0.2873, Train MAPE: 4.2050, Train RMSE: 0.4387\n"
          ]
        },
        {
          "name": "stderr",
          "output_type": "stream",
          "text": [
            "\r 36%|███▌      | 18/50 [10:05<17:43, 33.24s/it]"
          ]
        },
        {
          "name": "stdout",
          "output_type": "stream",
          "text": [
            "Iter: 00000, Train Loss: 0.2804, Train MAPE: -0.1893, Train RMSE: 0.4134\n",
            "Iter: 00100, Train Loss: 0.3348, Train MAPE: 0.1536, Train RMSE: 0.5506\n",
            "Iter: 00200, Train Loss: 0.3992, Train MAPE: 0.4387, Train RMSE: 0.6914\n",
            "Iter: 00300, Train Loss: 0.3246, Train MAPE: 1.5145, Train RMSE: 0.6215\n",
            "Iter: 00400, Train Loss: 0.3089, Train MAPE: 0.1387, Train RMSE: 0.5202\n",
            "Iter: 00500, Train Loss: 0.2898, Train MAPE: 4.3904, Train RMSE: 0.4397\n"
          ]
        },
        {
          "name": "stderr",
          "output_type": "stream",
          "text": [
            "\r 38%|███▊      | 19/50 [10:38<17:05, 33.09s/it]"
          ]
        },
        {
          "name": "stdout",
          "output_type": "stream",
          "text": [
            "Iter: 00000, Train Loss: 0.2754, Train MAPE: -0.1936, Train RMSE: 0.4083\n",
            "Iter: 00100, Train Loss: 0.3294, Train MAPE: -0.0468, Train RMSE: 0.5459\n",
            "Iter: 00200, Train Loss: 0.4047, Train MAPE: 0.4478, Train RMSE: 0.6927\n",
            "Iter: 00300, Train Loss: 0.3159, Train MAPE: 1.6210, Train RMSE: 0.6224\n",
            "Iter: 00400, Train Loss: 0.3173, Train MAPE: 0.3901, Train RMSE: 0.5247\n",
            "Iter: 00500, Train Loss: 0.2854, Train MAPE: 4.4824, Train RMSE: 0.4368\n"
          ]
        },
        {
          "name": "stderr",
          "output_type": "stream",
          "text": [
            "\r 40%|████      | 20/50 [11:11<16:30, 33.03s/it]"
          ]
        },
        {
          "name": "stdout",
          "output_type": "stream",
          "text": [
            "Iter: 00000, Train Loss: 0.2776, Train MAPE: -0.1926, Train RMSE: 0.4118\n",
            "Iter: 00100, Train Loss: 0.3276, Train MAPE: 0.1986, Train RMSE: 0.5456\n",
            "Iter: 00200, Train Loss: 0.4043, Train MAPE: 0.5370, Train RMSE: 0.6914\n",
            "Iter: 00300, Train Loss: 0.3179, Train MAPE: 1.1489, Train RMSE: 0.6320\n",
            "Iter: 00400, Train Loss: 0.3169, Train MAPE: 0.0455, Train RMSE: 0.5260\n",
            "Iter: 00500, Train Loss: 0.2830, Train MAPE: 4.6462, Train RMSE: 0.4369\n"
          ]
        },
        {
          "name": "stderr",
          "output_type": "stream",
          "text": [
            "\r 42%|████▏     | 21/50 [11:44<15:55, 32.96s/it]"
          ]
        },
        {
          "name": "stdout",
          "output_type": "stream",
          "text": [
            "Iter: 00000, Train Loss: 0.2810, Train MAPE: -0.2115, Train RMSE: 0.4136\n",
            "Iter: 00100, Train Loss: 0.3264, Train MAPE: 0.1809, Train RMSE: 0.5426\n",
            "Iter: 00200, Train Loss: 0.3971, Train MAPE: 0.5259, Train RMSE: 0.6868\n",
            "Iter: 00300, Train Loss: 0.3116, Train MAPE: 1.2472, Train RMSE: 0.6253\n",
            "Iter: 00400, Train Loss: 0.3114, Train MAPE: 0.2625, Train RMSE: 0.5233\n",
            "Iter: 00500, Train Loss: 0.2866, Train MAPE: 4.8253, Train RMSE: 0.4387\n"
          ]
        },
        {
          "name": "stderr",
          "output_type": "stream",
          "text": [
            "\r 44%|████▍     | 22/50 [12:16<15:20, 32.87s/it]"
          ]
        },
        {
          "name": "stdout",
          "output_type": "stream",
          "text": [
            "Iter: 00000, Train Loss: 0.2760, Train MAPE: -0.1604, Train RMSE: 0.4099\n",
            "Iter: 00100, Train Loss: 0.3277, Train MAPE: 0.1053, Train RMSE: 0.5450\n",
            "Iter: 00200, Train Loss: 0.4050, Train MAPE: 0.5109, Train RMSE: 0.6891\n",
            "Iter: 00300, Train Loss: 0.3086, Train MAPE: 0.6353, Train RMSE: 0.6186\n",
            "Iter: 00400, Train Loss: 0.3085, Train MAPE: 0.4041, Train RMSE: 0.5242\n",
            "Iter: 00500, Train Loss: 0.2870, Train MAPE: 4.2093, Train RMSE: 0.4381\n"
          ]
        },
        {
          "name": "stderr",
          "output_type": "stream",
          "text": [
            "\r 46%|████▌     | 23/50 [12:49<14:50, 32.98s/it]"
          ]
        },
        {
          "name": "stdout",
          "output_type": "stream",
          "text": [
            "Iter: 00000, Train Loss: 0.2769, Train MAPE: -0.1632, Train RMSE: 0.4109\n",
            "Iter: 00100, Train Loss: 0.3251, Train MAPE: 0.0041, Train RMSE: 0.5438\n",
            "Iter: 00200, Train Loss: 0.3967, Train MAPE: 0.4789, Train RMSE: 0.6858\n",
            "Iter: 00300, Train Loss: 0.3246, Train MAPE: 1.3048, Train RMSE: 0.6242\n",
            "Iter: 00400, Train Loss: 0.3066, Train MAPE: 0.2412, Train RMSE: 0.5220\n",
            "Iter: 00500, Train Loss: 0.2854, Train MAPE: 4.8287, Train RMSE: 0.4378\n"
          ]
        },
        {
          "name": "stderr",
          "output_type": "stream",
          "text": [
            "\r 48%|████▊     | 24/50 [13:23<14:21, 33.13s/it]"
          ]
        },
        {
          "name": "stdout",
          "output_type": "stream",
          "text": [
            "Iter: 00000, Train Loss: 0.2769, Train MAPE: -0.1656, Train RMSE: 0.4112\n",
            "Iter: 00100, Train Loss: 0.3283, Train MAPE: 0.2633, Train RMSE: 0.5437\n",
            "Iter: 00200, Train Loss: 0.4038, Train MAPE: 0.4896, Train RMSE: 0.6911\n",
            "Iter: 00300, Train Loss: 0.3166, Train MAPE: 0.6860, Train RMSE: 0.6268\n",
            "Iter: 00400, Train Loss: 0.3218, Train MAPE: 0.4560, Train RMSE: 0.5283\n",
            "Iter: 00500, Train Loss: 0.2843, Train MAPE: 4.5069, Train RMSE: 0.4369\n"
          ]
        },
        {
          "name": "stderr",
          "output_type": "stream",
          "text": [
            "\r 50%|█████     | 25/50 [13:57<13:52, 33.31s/it]"
          ]
        },
        {
          "name": "stdout",
          "output_type": "stream",
          "text": [
            "Iter: 00000, Train Loss: 0.2788, Train MAPE: -0.1850, Train RMSE: 0.4134\n",
            "Iter: 00100, Train Loss: 0.3276, Train MAPE: 0.3992, Train RMSE: 0.5462\n",
            "Iter: 00200, Train Loss: 0.4035, Train MAPE: 0.4015, Train RMSE: 0.6880\n",
            "Iter: 00300, Train Loss: 0.3509, Train MAPE: 2.2385, Train RMSE: 0.6559\n",
            "Iter: 00400, Train Loss: 0.3112, Train MAPE: 0.5041, Train RMSE: 0.5236\n",
            "Iter: 00500, Train Loss: 0.2839, Train MAPE: 4.2572, Train RMSE: 0.4378\n"
          ]
        },
        {
          "name": "stderr",
          "output_type": "stream",
          "text": [
            "\r 52%|█████▏    | 26/50 [14:29<13:15, 33.15s/it]"
          ]
        },
        {
          "name": "stdout",
          "output_type": "stream",
          "text": [
            "Iter: 00000, Train Loss: 0.2783, Train MAPE: -0.1838, Train RMSE: 0.4147\n",
            "Iter: 00100, Train Loss: 0.3277, Train MAPE: 0.4098, Train RMSE: 0.5453\n",
            "Iter: 00200, Train Loss: 0.4100, Train MAPE: 0.4896, Train RMSE: 0.6928\n",
            "Iter: 00300, Train Loss: 0.3019, Train MAPE: 0.7273, Train RMSE: 0.6240\n",
            "Iter: 00400, Train Loss: 0.3125, Train MAPE: 0.3609, Train RMSE: 0.5281\n",
            "Iter: 00500, Train Loss: 0.2836, Train MAPE: 4.5065, Train RMSE: 0.4369\n"
          ]
        },
        {
          "name": "stderr",
          "output_type": "stream",
          "text": [
            "\r 54%|█████▍    | 27/50 [15:02<12:41, 33.09s/it]"
          ]
        },
        {
          "name": "stdout",
          "output_type": "stream",
          "text": [
            "Iter: 00000, Train Loss: 0.2926, Train MAPE: -0.2260, Train RMSE: 0.4257\n",
            "Iter: 00100, Train Loss: 0.3157, Train MAPE: 0.3639, Train RMSE: 0.5339\n",
            "Iter: 00200, Train Loss: 0.4027, Train MAPE: 0.4827, Train RMSE: 0.6854\n",
            "Iter: 00300, Train Loss: 0.3116, Train MAPE: 0.9568, Train RMSE: 0.6151\n",
            "Iter: 00400, Train Loss: 0.3073, Train MAPE: 0.7729, Train RMSE: 0.5291\n",
            "Iter: 00500, Train Loss: 0.2871, Train MAPE: 3.9557, Train RMSE: 0.4384\n"
          ]
        },
        {
          "name": "stderr",
          "output_type": "stream",
          "text": [
            "\r 56%|█████▌    | 28/50 [15:35<12:04, 32.93s/it]"
          ]
        },
        {
          "name": "stdout",
          "output_type": "stream",
          "text": [
            "Iter: 00000, Train Loss: 0.3115, Train MAPE: -0.2461, Train RMSE: 0.4417\n",
            "Iter: 00100, Train Loss: 0.3338, Train MAPE: -0.0101, Train RMSE: 0.5481\n",
            "Iter: 00200, Train Loss: 0.4153, Train MAPE: 0.5098, Train RMSE: 0.6923\n",
            "Iter: 00300, Train Loss: 0.3215, Train MAPE: 0.5992, Train RMSE: 0.6260\n",
            "Iter: 00400, Train Loss: 0.3064, Train MAPE: 0.5412, Train RMSE: 0.5268\n",
            "Iter: 00500, Train Loss: 0.2872, Train MAPE: 4.6183, Train RMSE: 0.4417\n"
          ]
        },
        {
          "name": "stderr",
          "output_type": "stream",
          "text": [
            "\r 58%|█████▊    | 29/50 [16:08<11:33, 33.01s/it]"
          ]
        },
        {
          "name": "stdout",
          "output_type": "stream",
          "text": [
            "Iter: 00000, Train Loss: 0.2741, Train MAPE: -0.1869, Train RMSE: 0.4070\n",
            "Iter: 00100, Train Loss: 0.3283, Train MAPE: 0.0983, Train RMSE: 0.5433\n",
            "Iter: 00200, Train Loss: 0.4120, Train MAPE: 0.5393, Train RMSE: 0.6924\n",
            "Iter: 00300, Train Loss: 0.3137, Train MAPE: 1.8833, Train RMSE: 0.6346\n",
            "Iter: 00400, Train Loss: 0.3104, Train MAPE: 0.1162, Train RMSE: 0.5258\n",
            "Iter: 00500, Train Loss: 0.2793, Train MAPE: 4.7550, Train RMSE: 0.4355\n"
          ]
        },
        {
          "name": "stderr",
          "output_type": "stream",
          "text": [
            "\r 60%|██████    | 30/50 [16:41<10:57, 32.87s/it]"
          ]
        },
        {
          "name": "stdout",
          "output_type": "stream",
          "text": [
            "Iter: 00000, Train Loss: 0.2773, Train MAPE: -0.1431, Train RMSE: 0.4097\n",
            "Iter: 00100, Train Loss: 0.3380, Train MAPE: 0.1438, Train RMSE: 0.5543\n",
            "Iter: 00200, Train Loss: 0.4013, Train MAPE: 0.5014, Train RMSE: 0.6874\n",
            "Iter: 00300, Train Loss: 0.3148, Train MAPE: 1.4199, Train RMSE: 0.6339\n",
            "Iter: 00400, Train Loss: 0.3204, Train MAPE: 0.4434, Train RMSE: 0.5255\n",
            "Iter: 00500, Train Loss: 0.2797, Train MAPE: 4.5482, Train RMSE: 0.4354\n"
          ]
        },
        {
          "name": "stderr",
          "output_type": "stream",
          "text": [
            "\r 62%|██████▏   | 31/50 [17:14<10:27, 33.04s/it]"
          ]
        },
        {
          "name": "stdout",
          "output_type": "stream",
          "text": [
            "Iter: 00000, Train Loss: 0.2785, Train MAPE: -0.1829, Train RMSE: 0.4144\n",
            "Iter: 00100, Train Loss: 0.3281, Train MAPE: 0.4087, Train RMSE: 0.5471\n",
            "Iter: 00200, Train Loss: 0.4153, Train MAPE: 0.5557, Train RMSE: 0.6945\n",
            "Iter: 00300, Train Loss: 0.3129, Train MAPE: 1.1862, Train RMSE: 0.6251\n",
            "Iter: 00400, Train Loss: 0.3094, Train MAPE: 0.3473, Train RMSE: 0.5220\n",
            "Iter: 00500, Train Loss: 0.2862, Train MAPE: 4.5005, Train RMSE: 0.4380\n"
          ]
        },
        {
          "name": "stderr",
          "output_type": "stream",
          "text": [
            "\r 64%|██████▍   | 32/50 [17:48<09:57, 33.19s/it]"
          ]
        },
        {
          "name": "stdout",
          "output_type": "stream",
          "text": [
            "Iter: 00000, Train Loss: 0.3002, Train MAPE: -0.2359, Train RMSE: 0.4290\n",
            "Iter: 00100, Train Loss: 0.3293, Train MAPE: 0.0159, Train RMSE: 0.5455\n",
            "Iter: 00200, Train Loss: 0.4141, Train MAPE: 0.5789, Train RMSE: 0.6918\n",
            "Iter: 00300, Train Loss: 0.3253, Train MAPE: 1.4580, Train RMSE: 0.6192\n",
            "Iter: 00400, Train Loss: 0.3076, Train MAPE: 0.7706, Train RMSE: 0.5291\n",
            "Iter: 00500, Train Loss: 0.2842, Train MAPE: 4.2433, Train RMSE: 0.4373\n"
          ]
        },
        {
          "name": "stderr",
          "output_type": "stream",
          "text": [
            "\r 66%|██████▌   | 33/50 [18:21<09:26, 33.30s/it]"
          ]
        },
        {
          "name": "stdout",
          "output_type": "stream",
          "text": [
            "Iter: 00000, Train Loss: 0.2984, Train MAPE: -0.2097, Train RMSE: 0.4283\n",
            "Iter: 00100, Train Loss: 0.3260, Train MAPE: 0.3385, Train RMSE: 0.5423\n",
            "Iter: 00200, Train Loss: 0.4061, Train MAPE: 0.5343, Train RMSE: 0.6860\n",
            "Iter: 00300, Train Loss: 0.3149, Train MAPE: 0.6310, Train RMSE: 0.6240\n",
            "Iter: 00400, Train Loss: 0.3123, Train MAPE: 0.3597, Train RMSE: 0.5268\n",
            "Iter: 00500, Train Loss: 0.2873, Train MAPE: 4.3955, Train RMSE: 0.4405\n"
          ]
        },
        {
          "name": "stderr",
          "output_type": "stream",
          "text": [
            "\r 68%|██████▊   | 34/50 [18:54<08:50, 33.14s/it]"
          ]
        },
        {
          "name": "stdout",
          "output_type": "stream",
          "text": [
            "Iter: 00000, Train Loss: 0.2749, Train MAPE: -0.1710, Train RMSE: 0.4078\n",
            "Iter: 00100, Train Loss: 0.3281, Train MAPE: 0.2821, Train RMSE: 0.5435\n",
            "Iter: 00200, Train Loss: 0.4117, Train MAPE: 0.5076, Train RMSE: 0.6896\n",
            "Iter: 00300, Train Loss: 0.3087, Train MAPE: 1.4029, Train RMSE: 0.6296\n",
            "Iter: 00400, Train Loss: 0.3147, Train MAPE: 0.4720, Train RMSE: 0.5278\n",
            "Iter: 00500, Train Loss: 0.2847, Train MAPE: 4.3689, Train RMSE: 0.4393\n"
          ]
        },
        {
          "name": "stderr",
          "output_type": "stream",
          "text": [
            "\r 70%|███████   | 35/50 [19:27<08:16, 33.13s/it]"
          ]
        },
        {
          "name": "stdout",
          "output_type": "stream",
          "text": [
            "Iter: 00000, Train Loss: 0.2760, Train MAPE: -0.1732, Train RMSE: 0.4100\n",
            "Iter: 00100, Train Loss: 0.3281, Train MAPE: 0.5138, Train RMSE: 0.5435\n",
            "Iter: 00200, Train Loss: 0.4050, Train MAPE: 0.5013, Train RMSE: 0.6870\n",
            "Iter: 00300, Train Loss: 0.3165, Train MAPE: 0.8869, Train RMSE: 0.6249\n",
            "Iter: 00400, Train Loss: 0.3135, Train MAPE: 0.3025, Train RMSE: 0.5218\n",
            "Iter: 00500, Train Loss: 0.2824, Train MAPE: 4.4588, Train RMSE: 0.4349\n"
          ]
        },
        {
          "name": "stderr",
          "output_type": "stream",
          "text": [
            "\r 72%|███████▏  | 36/50 [20:00<07:41, 32.93s/it]"
          ]
        },
        {
          "name": "stdout",
          "output_type": "stream",
          "text": [
            "Iter: 00000, Train Loss: 0.2956, Train MAPE: -0.2163, Train RMSE: 0.4266\n",
            "Iter: 00100, Train Loss: 0.3411, Train MAPE: 0.5052, Train RMSE: 0.5549\n",
            "Iter: 00200, Train Loss: 0.4199, Train MAPE: 0.5128, Train RMSE: 0.6933\n",
            "Iter: 00300, Train Loss: 0.3156, Train MAPE: 1.2844, Train RMSE: 0.6232\n",
            "Iter: 00400, Train Loss: 0.3084, Train MAPE: 0.4875, Train RMSE: 0.5240\n",
            "Iter: 00500, Train Loss: 0.2844, Train MAPE: 4.5372, Train RMSE: 0.4364\n"
          ]
        },
        {
          "name": "stderr",
          "output_type": "stream",
          "text": [
            "\r 74%|███████▍  | 37/50 [20:33<07:09, 33.02s/it]"
          ]
        },
        {
          "name": "stdout",
          "output_type": "stream",
          "text": [
            "Iter: 00000, Train Loss: 0.2903, Train MAPE: -0.2053, Train RMSE: 0.4228\n",
            "Iter: 00100, Train Loss: 0.3372, Train MAPE: 0.2229, Train RMSE: 0.5521\n",
            "Iter: 00200, Train Loss: 0.4046, Train MAPE: 0.5466, Train RMSE: 0.6876\n",
            "Iter: 00300, Train Loss: 0.3340, Train MAPE: 1.0421, Train RMSE: 0.6234\n",
            "Iter: 00400, Train Loss: 0.3107, Train MAPE: 0.2740, Train RMSE: 0.5237\n",
            "Iter: 00500, Train Loss: 0.2809, Train MAPE: 4.5978, Train RMSE: 0.4379\n"
          ]
        },
        {
          "name": "stderr",
          "output_type": "stream",
          "text": [
            "\r 76%|███████▌  | 38/50 [21:05<06:34, 32.86s/it]"
          ]
        },
        {
          "name": "stdout",
          "output_type": "stream",
          "text": [
            "Iter: 00000, Train Loss: 0.2750, Train MAPE: -0.1570, Train RMSE: 0.4077\n",
            "Iter: 00100, Train Loss: 0.3351, Train MAPE: 0.4161, Train RMSE: 0.5496\n",
            "Iter: 00200, Train Loss: 0.4035, Train MAPE: 0.4708, Train RMSE: 0.6843\n",
            "Iter: 00300, Train Loss: 0.3186, Train MAPE: 1.3207, Train RMSE: 0.6384\n",
            "Iter: 00400, Train Loss: 0.3267, Train MAPE: -0.0258, Train RMSE: 0.5283\n",
            "Iter: 00500, Train Loss: 0.2802, Train MAPE: 4.3169, Train RMSE: 0.4344\n"
          ]
        },
        {
          "name": "stderr",
          "output_type": "stream",
          "text": [
            "\r 78%|███████▊  | 39/50 [21:39<06:03, 33.08s/it]"
          ]
        },
        {
          "name": "stdout",
          "output_type": "stream",
          "text": [
            "Iter: 00000, Train Loss: 0.3074, Train MAPE: -0.2696, Train RMSE: 0.4373\n",
            "Iter: 00100, Train Loss: 0.3322, Train MAPE: 0.5690, Train RMSE: 0.5457\n",
            "Iter: 00200, Train Loss: 0.3999, Train MAPE: 0.4528, Train RMSE: 0.6852\n",
            "Iter: 00300, Train Loss: 0.3114, Train MAPE: 1.4106, Train RMSE: 0.6258\n",
            "Iter: 00400, Train Loss: 0.3125, Train MAPE: 0.2345, Train RMSE: 0.5260\n",
            "Iter: 00500, Train Loss: 0.2852, Train MAPE: 4.2004, Train RMSE: 0.4390\n"
          ]
        },
        {
          "name": "stderr",
          "output_type": "stream",
          "text": [
            "\r 80%|████████  | 40/50 [22:12<05:31, 33.18s/it]"
          ]
        },
        {
          "name": "stdout",
          "output_type": "stream",
          "text": [
            "Iter: 00000, Train Loss: 0.2779, Train MAPE: -0.1816, Train RMSE: 0.4118\n",
            "Iter: 00100, Train Loss: 0.3238, Train MAPE: 0.2805, Train RMSE: 0.5381\n",
            "Iter: 00200, Train Loss: 0.4099, Train MAPE: 0.5547, Train RMSE: 0.6881\n",
            "Iter: 00300, Train Loss: 0.3261, Train MAPE: 1.0522, Train RMSE: 0.6235\n",
            "Iter: 00400, Train Loss: 0.3084, Train MAPE: 0.5829, Train RMSE: 0.5286\n",
            "Iter: 00500, Train Loss: 0.2805, Train MAPE: 4.6620, Train RMSE: 0.4354\n"
          ]
        },
        {
          "name": "stderr",
          "output_type": "stream",
          "text": [
            "\r 82%|████████▏ | 41/50 [22:46<04:59, 33.26s/it]"
          ]
        },
        {
          "name": "stdout",
          "output_type": "stream",
          "text": [
            "Iter: 00000, Train Loss: 0.2948, Train MAPE: -0.2225, Train RMSE: 0.4255\n",
            "Iter: 00100, Train Loss: 0.3283, Train MAPE: 0.3144, Train RMSE: 0.5437\n",
            "Iter: 00200, Train Loss: 0.3944, Train MAPE: 0.4730, Train RMSE: 0.6819\n",
            "Iter: 00300, Train Loss: 0.3194, Train MAPE: 0.9739, Train RMSE: 0.6237\n",
            "Iter: 00400, Train Loss: 0.3090, Train MAPE: 0.6859, Train RMSE: 0.5242\n",
            "Iter: 00500, Train Loss: 0.2815, Train MAPE: 4.4727, Train RMSE: 0.4401\n"
          ]
        },
        {
          "name": "stderr",
          "output_type": "stream",
          "text": [
            "\r 84%|████████▍ | 42/50 [23:18<04:24, 33.06s/it]"
          ]
        },
        {
          "name": "stdout",
          "output_type": "stream",
          "text": [
            "Iter: 00000, Train Loss: 0.2776, Train MAPE: -0.1734, Train RMSE: 0.4104\n",
            "Iter: 00100, Train Loss: 0.3207, Train MAPE: 0.2906, Train RMSE: 0.5374\n",
            "Iter: 00200, Train Loss: 0.4051, Train MAPE: 0.5130, Train RMSE: 0.6854\n",
            "Iter: 00300, Train Loss: 0.3092, Train MAPE: 1.5493, Train RMSE: 0.6393\n",
            "Iter: 00400, Train Loss: 0.3162, Train MAPE: 0.4212, Train RMSE: 0.5250\n",
            "Iter: 00500, Train Loss: 0.2791, Train MAPE: 4.5313, Train RMSE: 0.4372\n"
          ]
        },
        {
          "name": "stderr",
          "output_type": "stream",
          "text": [
            "\r 86%|████████▌ | 43/50 [23:52<03:51, 33.11s/it]"
          ]
        },
        {
          "name": "stdout",
          "output_type": "stream",
          "text": [
            "Iter: 00000, Train Loss: 0.2837, Train MAPE: -0.1815, Train RMSE: 0.4174\n",
            "Iter: 00100, Train Loss: 0.3336, Train MAPE: 0.5611, Train RMSE: 0.5484\n",
            "Iter: 00200, Train Loss: 0.4110, Train MAPE: 0.5245, Train RMSE: 0.6873\n",
            "Iter: 00300, Train Loss: 0.3013, Train MAPE: 1.3041, Train RMSE: 0.6166\n",
            "Iter: 00400, Train Loss: 0.3098, Train MAPE: 0.5521, Train RMSE: 0.5265\n",
            "Iter: 00500, Train Loss: 0.2785, Train MAPE: 4.4901, Train RMSE: 0.4351\n"
          ]
        },
        {
          "name": "stderr",
          "output_type": "stream",
          "text": [
            "\r 88%|████████▊ | 44/50 [24:24<03:17, 32.91s/it]"
          ]
        },
        {
          "name": "stdout",
          "output_type": "stream",
          "text": [
            "Iter: 00000, Train Loss: 0.2759, Train MAPE: -0.1826, Train RMSE: 0.4087\n",
            "Iter: 00100, Train Loss: 0.3313, Train MAPE: 0.3167, Train RMSE: 0.5439\n",
            "Iter: 00200, Train Loss: 0.3965, Train MAPE: 0.5484, Train RMSE: 0.6808\n",
            "Iter: 00300, Train Loss: 0.3231, Train MAPE: 1.0988, Train RMSE: 0.6238\n",
            "Iter: 00400, Train Loss: 0.3080, Train MAPE: 0.5422, Train RMSE: 0.5295\n",
            "Iter: 00500, Train Loss: 0.2821, Train MAPE: 4.5705, Train RMSE: 0.4373\n"
          ]
        },
        {
          "name": "stderr",
          "output_type": "stream",
          "text": [
            "\r 90%|█████████ | 45/50 [24:57<02:44, 33.00s/it]"
          ]
        },
        {
          "name": "stdout",
          "output_type": "stream",
          "text": [
            "Iter: 00000, Train Loss: 0.2900, Train MAPE: -0.2151, Train RMSE: 0.4210\n",
            "Iter: 00100, Train Loss: 0.3337, Train MAPE: 0.2329, Train RMSE: 0.5465\n",
            "Iter: 00200, Train Loss: 0.3974, Train MAPE: 0.4678, Train RMSE: 0.6797\n",
            "Iter: 00300, Train Loss: 0.3164, Train MAPE: 1.0366, Train RMSE: 0.6270\n",
            "Iter: 00400, Train Loss: 0.3112, Train MAPE: 0.3581, Train RMSE: 0.5233\n",
            "Iter: 00500, Train Loss: 0.2811, Train MAPE: 4.4062, Train RMSE: 0.4381\n"
          ]
        },
        {
          "name": "stderr",
          "output_type": "stream",
          "text": [
            "\r 92%|█████████▏| 46/50 [25:30<02:11, 32.81s/it]"
          ]
        },
        {
          "name": "stdout",
          "output_type": "stream",
          "text": [
            "Iter: 00000, Train Loss: 0.2821, Train MAPE: -0.1962, Train RMSE: 0.4131\n",
            "Iter: 00100, Train Loss: 0.3289, Train MAPE: 0.4273, Train RMSE: 0.5419\n",
            "Iter: 00200, Train Loss: 0.4023, Train MAPE: 0.4257, Train RMSE: 0.6807\n",
            "Iter: 00300, Train Loss: 0.3061, Train MAPE: 1.2792, Train RMSE: 0.6296\n",
            "Iter: 00400, Train Loss: 0.3151, Train MAPE: 0.4866, Train RMSE: 0.5248\n",
            "Iter: 00500, Train Loss: 0.2809, Train MAPE: 4.3857, Train RMSE: 0.4352\n"
          ]
        },
        {
          "name": "stderr",
          "output_type": "stream",
          "text": [
            "\r 94%|█████████▍| 47/50 [26:03<01:39, 33.10s/it]"
          ]
        },
        {
          "name": "stdout",
          "output_type": "stream",
          "text": [
            "Iter: 00000, Train Loss: 0.2793, Train MAPE: -0.1856, Train RMSE: 0.4149\n",
            "Iter: 00100, Train Loss: 0.3295, Train MAPE: 0.4598, Train RMSE: 0.5437\n",
            "Iter: 00200, Train Loss: 0.4104, Train MAPE: 0.5036, Train RMSE: 0.6839\n",
            "Iter: 00300, Train Loss: 0.3065, Train MAPE: 1.3373, Train RMSE: 0.6181\n",
            "Iter: 00400, Train Loss: 0.3125, Train MAPE: 0.2150, Train RMSE: 0.5233\n",
            "Iter: 00500, Train Loss: 0.2804, Train MAPE: 4.4585, Train RMSE: 0.4363\n"
          ]
        },
        {
          "name": "stderr",
          "output_type": "stream",
          "text": [
            "\r 96%|█████████▌| 48/50 [26:37<01:06, 33.15s/it]"
          ]
        },
        {
          "name": "stdout",
          "output_type": "stream",
          "text": [
            "Iter: 00000, Train Loss: 0.2840, Train MAPE: -0.1978, Train RMSE: 0.4166\n",
            "Iter: 00100, Train Loss: 0.3217, Train MAPE: 0.4770, Train RMSE: 0.5371\n",
            "Iter: 00200, Train Loss: 0.4027, Train MAPE: 0.4830, Train RMSE: 0.6838\n",
            "Iter: 00300, Train Loss: 0.3623, Train MAPE: 1.2332, Train RMSE: 0.6460\n",
            "Iter: 00400, Train Loss: 0.3063, Train MAPE: 0.7465, Train RMSE: 0.5236\n",
            "Iter: 00500, Train Loss: 0.2794, Train MAPE: 4.6911, Train RMSE: 0.4365\n"
          ]
        },
        {
          "name": "stderr",
          "output_type": "stream",
          "text": [
            "\r 98%|█████████▊| 49/50 [27:10<00:33, 33.21s/it]"
          ]
        },
        {
          "name": "stdout",
          "output_type": "stream",
          "text": [
            "Iter: 00000, Train Loss: 0.2877, Train MAPE: -0.2040, Train RMSE: 0.4199\n",
            "Iter: 00100, Train Loss: 0.3325, Train MAPE: -0.0128, Train RMSE: 0.5476\n",
            "Iter: 00200, Train Loss: 0.4058, Train MAPE: 0.5338, Train RMSE: 0.6862\n",
            "Iter: 00300, Train Loss: 0.3139, Train MAPE: 0.9375, Train RMSE: 0.6294\n",
            "Iter: 00400, Train Loss: 0.3139, Train MAPE: 0.0992, Train RMSE: 0.5229\n",
            "Iter: 00500, Train Loss: 0.2798, Train MAPE: 4.3636, Train RMSE: 0.4352\n"
          ]
        },
        {
          "name": "stderr",
          "output_type": "stream",
          "text": [
            "100%|██████████| 50/50 [27:42<00:00, 33.26s/it]\n"
          ]
        },
        {
          "name": "stdout",
          "output_type": "stream",
          "text": [
            "MAE: 0.7212\n"
          ]
        }
      ],
      "source": [
        "# Run WikiMaths Web Traffic Dataset\n",
        "\n",
        "from torch_geometric_temporal.signal import temporal_signal_split\n",
        "\n",
        "# sample training loop\n",
        "train_dataset, test_dataset = temporal_signal_split(dataset, train_ratio=0.7)\n",
        "\n",
        "\n",
        "import torch\n",
        "import torch.nn.functional as F\n",
        "\n",
        "# training\n",
        "from tqdm import tqdm\n",
        "import time\n",
        "\n",
        "device = torch.device(\"cuda\" if torch.cuda.is_available() else \"cpu\")\n",
        "torch.cuda.empty_cache() # clear cuda cache\n",
        "\n",
        "#enable extensions\n",
        "util.extensions_enabled = True\n",
        "print(\"Graph Wavenet Extension for Performance Improvements: {}\".format(util.extensions_enabled))\n",
        "in_dim = 4\n",
        "out_dim = 1\n",
        "num_nodes = 20\n",
        "timesteps_to_predict = 1\n",
        "epochs = 50\n",
        "lrate = 0.0005\n",
        "wdecay = 0.0001\n",
        "save_path = \"store/checkpoint\"\n",
        "\n",
        "model = GraphWaveNet(\n",
        "    num_nodes=num_nodes,\n",
        "    in_channels=in_dim,\n",
        "    out_channels=out_dim,\n",
        "    out_timesteps=timesteps_to_predict,\n",
        ").to(device)\n",
        "\n",
        "if not os.path.exists(save_path):\n",
        "    os.makedirs(save_path)\n",
        "\n",
        "print(\"start training...\", flush=True)\n",
        "\n",
        "optimizer = torch.optim.Adam(model.parameters(), lr=lrate, weight_decay=wdecay)\n",
        "scheduler = None\n",
        "if util.extensions_enabled:\n",
        "    scheduler = torch.optim.lr_scheduler.StepLR(optimizer, step_size=1, gamma=0.03)\n",
        "clip = 5\n",
        "if util.extensions_enabled:\n",
        "    clip = 3\n",
        "\n",
        "model.train()\n",
        "\n",
        "for epoch in tqdm(range(epochs)):\n",
        "    train_loss = []\n",
        "    train_mape = []\n",
        "    train_rmse = []\n",
        "    t1 = time.time()\n",
        "\n",
        "    for iter, snapshot in enumerate(train_dataset):\n",
        "        x_train = snapshot.x.reshape(-1, num_nodes, in_dim).to(device)\n",
        "        y_train = snapshot.y.to(device)\n",
        "        pred = model(x_train, snapshot.edge_index, snapshot.edge_attr).squeeze()\n",
        "        loss = masked_mae(pred, y_train, 0.0) # mean absolute error as loss\n",
        "        loss.backward()\n",
        "\n",
        "        if util.extensions_enabled:\n",
        "            torch.nn.utils.clip_grad_norm_(model.parameters(), clip)\n",
        "        optimizer.step()\n",
        "        if util.extensions_enabled:\n",
        "            scheduler.step()\n",
        "        optimizer.zero_grad()\n",
        "\n",
        "        mape = masked_mape(pred, y_train, 0.0).item()\n",
        "        rmse = masked_rmse(pred, y_train, 0.0).item()\n",
        "        metrics = loss.item(), mape, rmse\n",
        "        train_loss.append(metrics[0])\n",
        "        train_mape.append(metrics[1])\n",
        "        train_rmse.append(metrics[2])\n",
        "\n",
        "        if iter % 100 == 0:\n",
        "            log = 'Iter: {:05d}, Train Loss: {:.4f}, Train MAPE: ' + \\\n",
        "                '{:.4f}, Train RMSE: {:.4f}'\n",
        "            print(\n",
        "                log.format(iter, train_loss[-1], train_mape[-1],\n",
        "                            train_rmse[-1]), flush=True)\n",
        "\n",
        "\n",
        "\n",
        "# eval\n",
        "model.eval()\n",
        "loss = 0\n",
        "for iter, snapshot in enumerate(test_dataset):\n",
        "    x_test = snapshot.x.reshape(-1, num_nodes, in_dim).to(device)\n",
        "    y_test = snapshot.y.to(device)\n",
        "\n",
        "    with torch.no_grad():\n",
        "        pred = model(x_test, snapshot.edge_index, snapshot.edge_attr)\n",
        "    loss += masked_mae(pred, y_test, 0.0) # mean absolute error as loss\n",
        "\n",
        "loss = loss / (iter+1)\n",
        "loss = loss.item()\n",
        "print(\"MAE: {:.4f}\".format(loss))\n"
      ]
    },
    {
      "cell_type": "code",
      "execution_count": 8,
      "metadata": {
        "colab": {
          "base_uri": "https://localhost:8080/"
        },
        "id": "NcsS-FdiPrRU",
        "outputId": "a2227bce-23de-43d1-ccef-ec94abefbdcc"
      },
      "outputs": [
        {
          "name": "stdout",
          "output_type": "stream",
          "text": [
            "Mon Dec 11 10:50:25 2023       \n",
            "+-----------------------------------------------------------------------------+\n",
            "| NVIDIA-SMI 525.105.17   Driver Version: 525.105.17   CUDA Version: 12.0     |\n",
            "|-------------------------------+----------------------+----------------------+\n",
            "| GPU  Name        Persistence-M| Bus-Id        Disp.A | Volatile Uncorr. ECC |\n",
            "| Fan  Temp  Perf  Pwr:Usage/Cap|         Memory-Usage | GPU-Util  Compute M. |\n",
            "|                               |                      |               MIG M. |\n",
            "|===============================+======================+======================|\n",
            "|   0  Tesla T4            Off  | 00000000:00:04.0 Off |                    0 |\n",
            "| N/A   74C    P0    40W /  70W |   1711MiB / 15360MiB |     39%      Default |\n",
            "|                               |                      |                  N/A |\n",
            "+-------------------------------+----------------------+----------------------+\n",
            "                                                                               \n",
            "+-----------------------------------------------------------------------------+\n",
            "| Processes:                                                                  |\n",
            "|  GPU   GI   CI        PID   Type   Process name                  GPU Memory |\n",
            "|        ID   ID                                                   Usage      |\n",
            "|=============================================================================|\n",
            "+-----------------------------------------------------------------------------+\n"
          ]
        }
      ],
      "source": [
        "!nvidia-smi"
      ]
    },
    {
      "cell_type": "code",
      "execution_count": 9,
      "metadata": {
        "id": "GU0OV1AJUVCT"
      },
      "outputs": [],
      "source": [
        "# Reset GPU RAM if GPU out of memory\n",
        "\n",
        "# !pip install numba\n",
        "\n",
        "# from numba import cuda\n",
        "\n",
        "# cuda.select_device(0) # choosing second GPU\n",
        "\n",
        "# cuda.close()"
      ]
    },
    {
      "cell_type": "code",
      "execution_count": 9,
      "metadata": {
        "id": "yi58dfonTQG3"
      },
      "outputs": [],
      "source": []
    }
  ],
  "metadata": {
    "accelerator": "GPU",
    "colab": {
      "include_colab_link": true,
      "machine_shape": "hm",
      "provenance": []
    },
    "kernelspec": {
      "display_name": "Python 3",
      "language": "python",
      "name": "python3"
    },
    "language_info": {
      "codemirror_mode": {
        "name": "ipython",
        "version": 3
      },
      "file_extension": ".py",
      "mimetype": "text/x-python",
      "name": "python",
      "nbconvert_exporter": "python",
      "pygments_lexer": "ipython3",
      "version": "3.9.2"
    }
  },
  "nbformat": 4,
  "nbformat_minor": 0
}
